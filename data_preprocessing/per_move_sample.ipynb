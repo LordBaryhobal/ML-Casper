{
 "cells": [
  {
   "cell_type": "code",
   "execution_count": 1,
   "id": "cc6e0f80",
   "metadata": {},
   "outputs": [],
   "source": [
    "import polars as pl"
   ]
  },
  {
   "cell_type": "code",
   "execution_count": 2,
   "id": "feb60efd",
   "metadata": {},
   "outputs": [
    {
     "data": {
      "text/html": [
       "<div><style>\n",
       ".dataframe > thead > tr,\n",
       ".dataframe > tbody > tr {\n",
       "  text-align: right;\n",
       "  white-space: pre-wrap;\n",
       "}\n",
       "</style>\n",
       "<small>shape: (5, 14)</small><table border=\"1\" class=\"dataframe\"><thead><tr><th>id</th><th>move_idx</th><th>move_uci</th><th>white_elo</th><th>black_elo</th><th>avg_elo</th><th>state0</th><th>state1</th><th>state2</th><th>state3</th><th>state4</th><th>state5</th><th>state6</th><th>state7</th></tr><tr><td>i64</td><td>i64</td><td>str</td><td>i64</td><td>i64</td><td>f64</td><td>u32</td><td>u32</td><td>u32</td><td>u32</td><td>u32</td><td>u32</td><td>u32</td><td>u32</td></tr></thead><tbody><tr><td>1</td><td>1</td><td>&quot;e2e4&quot;</td><td>1227</td><td>1190</td><td>1208.5</td><td>1110856484</td><td>286331153</td><td>0</td><td>0</td><td>0</td><td>0</td><td>2004318071</td><td>2828843402</td></tr><tr><td>1</td><td>2</td><td>&quot;e7e5&quot;</td><td>1227</td><td>1190</td><td>1208.5</td><td>1110856484</td><td>286265617</td><td>0</td><td>65536</td><td>0</td><td>0</td><td>2004318071</td><td>2828843402</td></tr><tr><td>1</td><td>3</td><td>&quot;f1c4&quot;</td><td>1227</td><td>1190</td><td>1208.5</td><td>1110856484</td><td>286265617</td><td>0</td><td>65536</td><td>458752</td><td>0</td><td>2003859319</td><td>2828843402</td></tr><tr><td>1</td><td>4</td><td>&quot;g8f6&quot;</td><td>1227</td><td>1190</td><td>1208.5</td><td>1107710756</td><td>286265617</td><td>0</td><td>66304</td><td>458752</td><td>0</td><td>2003859319</td><td>2828843402</td></tr><tr><td>1</td><td>5</td><td>&quot;b1c3&quot;</td><td>1227</td><td>1190</td><td>1208.5</td><td>1107710756</td><td>286265617</td><td>0</td><td>66304</td><td>458752</td><td>8388608</td><td>2003859319</td><td>2694625674</td></tr></tbody></table></div>"
      ],
      "text/plain": [
       "shape: (5, 14)\n",
       "┌─────┬──────────┬──────────┬───────────┬───┬────────┬─────────┬────────────┬────────────┐\n",
       "│ id  ┆ move_idx ┆ move_uci ┆ white_elo ┆ … ┆ state4 ┆ state5  ┆ state6     ┆ state7     │\n",
       "│ --- ┆ ---      ┆ ---      ┆ ---       ┆   ┆ ---    ┆ ---     ┆ ---        ┆ ---        │\n",
       "│ i64 ┆ i64      ┆ str      ┆ i64       ┆   ┆ u32    ┆ u32     ┆ u32        ┆ u32        │\n",
       "╞═════╪══════════╪══════════╪═══════════╪═══╪════════╪═════════╪════════════╪════════════╡\n",
       "│ 1   ┆ 1        ┆ e2e4     ┆ 1227      ┆ … ┆ 0      ┆ 0       ┆ 2004318071 ┆ 2828843402 │\n",
       "│ 1   ┆ 2        ┆ e7e5     ┆ 1227      ┆ … ┆ 0      ┆ 0       ┆ 2004318071 ┆ 2828843402 │\n",
       "│ 1   ┆ 3        ┆ f1c4     ┆ 1227      ┆ … ┆ 458752 ┆ 0       ┆ 2003859319 ┆ 2828843402 │\n",
       "│ 1   ┆ 4        ┆ g8f6     ┆ 1227      ┆ … ┆ 458752 ┆ 0       ┆ 2003859319 ┆ 2828843402 │\n",
       "│ 1   ┆ 5        ┆ b1c3     ┆ 1227      ┆ … ┆ 458752 ┆ 8388608 ┆ 2003859319 ┆ 2694625674 │\n",
       "└─────┴──────────┴──────────┴───────────┴───┴────────┴─────────┴────────────┴────────────┘"
      ]
     },
     "execution_count": 2,
     "metadata": {},
     "output_type": "execute_result"
    }
   ],
   "source": [
    "file_path = \"output/per_move.parquet\"\n",
    "fraction = 0.1\n",
    "seed = 42\n",
    "df = pl.scan_parquet(file_path)\n",
    "df.head().collect()"
   ]
  },
  {
   "cell_type": "code",
   "execution_count": 3,
   "id": "44b03153",
   "metadata": {},
   "outputs": [
    {
     "data": {
      "text/html": [
       "<div><style>\n",
       ".dataframe > thead > tr,\n",
       ".dataframe > tbody > tr {\n",
       "  text-align: right;\n",
       "  white-space: pre-wrap;\n",
       "}\n",
       "</style>\n",
       "<small>shape: (5, 14)</small><table border=\"1\" class=\"dataframe\"><thead><tr><th>id</th><th>move_idx</th><th>move_uci</th><th>white_elo</th><th>black_elo</th><th>avg_elo</th><th>state0</th><th>state1</th><th>state2</th><th>state3</th><th>state4</th><th>state5</th><th>state6</th><th>state7</th></tr><tr><td>i64</td><td>i64</td><td>str</td><td>i64</td><td>i64</td><td>f64</td><td>u32</td><td>u32</td><td>u32</td><td>u32</td><td>u32</td><td>u32</td><td>u32</td><td>u32</td></tr></thead><tbody><tr><td>1</td><td>4</td><td>&quot;g8f6&quot;</td><td>1227</td><td>1190</td><td>1208.5</td><td>1107710756</td><td>286265617</td><td>0</td><td>66304</td><td>458752</td><td>0</td><td>2003859319</td><td>2828843402</td></tr><tr><td>1</td><td>5</td><td>&quot;b1c3&quot;</td><td>1227</td><td>1190</td><td>1208.5</td><td>1107710756</td><td>286265617</td><td>0</td><td>66304</td><td>458752</td><td>8388608</td><td>2003859319</td><td>2694625674</td></tr><tr><td>1</td><td>6</td><td>&quot;a7a6&quot;</td><td>1227</td><td>1190</td><td>1208.5</td><td>1107710724</td><td>286265617</td><td>512</td><td>66304</td><td>458752</td><td>8388608</td><td>2003859319</td><td>2694625674</td></tr><tr><td>1</td><td>7</td><td>&quot;g1f3&quot;</td><td>1227</td><td>1190</td><td>1208.5</td><td>1107710724</td><td>286265617</td><td>512</td><td>66304</td><td>458752</td><td>8388615</td><td>2003859312</td><td>2694625674</td></tr><tr><td>1</td><td>8</td><td>&quot;b7b5&quot;</td><td>1227</td><td>1190</td><td>1208.5</td><td>1074156292</td><td>286265617</td><td>2097664</td><td>66304</td><td>458752</td><td>8388615</td><td>2003859312</td><td>2694625674</td></tr></tbody></table></div>"
      ],
      "text/plain": [
       "shape: (5, 14)\n",
       "┌─────┬──────────┬──────────┬───────────┬───┬────────┬─────────┬────────────┬────────────┐\n",
       "│ id  ┆ move_idx ┆ move_uci ┆ white_elo ┆ … ┆ state4 ┆ state5  ┆ state6     ┆ state7     │\n",
       "│ --- ┆ ---      ┆ ---      ┆ ---       ┆   ┆ ---    ┆ ---     ┆ ---        ┆ ---        │\n",
       "│ i64 ┆ i64      ┆ str      ┆ i64       ┆   ┆ u32    ┆ u32     ┆ u32        ┆ u32        │\n",
       "╞═════╪══════════╪══════════╪═══════════╪═══╪════════╪═════════╪════════════╪════════════╡\n",
       "│ 1   ┆ 4        ┆ g8f6     ┆ 1227      ┆ … ┆ 458752 ┆ 0       ┆ 2003859319 ┆ 2828843402 │\n",
       "│ 1   ┆ 5        ┆ b1c3     ┆ 1227      ┆ … ┆ 458752 ┆ 8388608 ┆ 2003859319 ┆ 2694625674 │\n",
       "│ 1   ┆ 6        ┆ a7a6     ┆ 1227      ┆ … ┆ 458752 ┆ 8388608 ┆ 2003859319 ┆ 2694625674 │\n",
       "│ 1   ┆ 7        ┆ g1f3     ┆ 1227      ┆ … ┆ 458752 ┆ 8388615 ┆ 2003859312 ┆ 2694625674 │\n",
       "│ 1   ┆ 8        ┆ b7b5     ┆ 1227      ┆ … ┆ 458752 ┆ 8388615 ┆ 2003859312 ┆ 2694625674 │\n",
       "└─────┴──────────┴──────────┴───────────┴───┴────────┴─────────┴────────────┴────────────┘"
      ]
     },
     "execution_count": 3,
     "metadata": {},
     "output_type": "execute_result"
    }
   ],
   "source": [
    "min_move_idx = 3\n",
    "df = df.filter(pl.col(\"move_idx\") > min_move_idx)\n",
    "df.head().collect()"
   ]
  },
  {
   "cell_type": "code",
   "execution_count": 4,
   "id": "c51ee3f7",
   "metadata": {},
   "outputs": [
    {
     "data": {
      "text/html": [
       "<div><style>\n",
       ".dataframe > thead > tr,\n",
       ".dataframe > tbody > tr {\n",
       "  text-align: right;\n",
       "  white-space: pre-wrap;\n",
       "}\n",
       "</style>\n",
       "<small>shape: (5, 70)</small><table border=\"1\" class=\"dataframe\"><thead><tr><th>id</th><th>move_idx</th><th>move_uci</th><th>white_elo</th><th>black_elo</th><th>avg_elo</th><th>tile00</th><th>tile01</th><th>tile02</th><th>tile03</th><th>tile04</th><th>tile05</th><th>tile06</th><th>tile07</th><th>tile10</th><th>tile11</th><th>tile12</th><th>tile13</th><th>tile14</th><th>tile15</th><th>tile16</th><th>tile17</th><th>tile20</th><th>tile21</th><th>tile22</th><th>tile23</th><th>tile24</th><th>tile25</th><th>tile26</th><th>tile27</th><th>tile30</th><th>tile31</th><th>tile32</th><th>tile33</th><th>tile34</th><th>tile35</th><th>tile36</th><th>tile37</th><th>tile40</th><th>tile41</th><th>tile42</th><th>tile43</th><th>tile44</th><th>tile45</th><th>tile46</th><th>tile47</th><th>tile50</th><th>tile51</th><th>tile52</th><th>tile53</th><th>tile54</th><th>tile55</th><th>tile56</th><th>tile57</th><th>tile60</th><th>tile61</th><th>tile62</th><th>tile63</th><th>tile64</th><th>tile65</th><th>tile66</th><th>tile67</th><th>tile70</th><th>tile71</th><th>tile72</th><th>tile73</th><th>tile74</th><th>tile75</th><th>tile76</th><th>tile77</th></tr><tr><td>i64</td><td>i64</td><td>str</td><td>i64</td><td>i64</td><td>f64</td><td>f32</td><td>f32</td><td>f32</td><td>f32</td><td>f32</td><td>f32</td><td>f32</td><td>f32</td><td>f32</td><td>f32</td><td>f32</td><td>f32</td><td>f32</td><td>f32</td><td>f32</td><td>f32</td><td>f32</td><td>f32</td><td>f32</td><td>f32</td><td>f32</td><td>f32</td><td>f32</td><td>f32</td><td>f32</td><td>f32</td><td>f32</td><td>f32</td><td>f32</td><td>f32</td><td>f32</td><td>f32</td><td>f32</td><td>f32</td><td>f32</td><td>f32</td><td>f32</td><td>f32</td><td>f32</td><td>f32</td><td>f32</td><td>f32</td><td>f32</td><td>f32</td><td>f32</td><td>f32</td><td>f32</td><td>f32</td><td>f32</td><td>f32</td><td>f32</td><td>f32</td><td>f32</td><td>f32</td><td>f32</td><td>f32</td><td>f32</td><td>f32</td><td>f32</td><td>f32</td><td>f32</td><td>f32</td><td>f32</td><td>f32</td></tr></thead><tbody><tr><td>1</td><td>4</td><td>&quot;g8f6&quot;</td><td>1227</td><td>1190</td><td>1208.5</td><td>4.0</td><td>2.0</td><td>3.0</td><td>5.0</td><td>6.0</td><td>0.0</td><td>2.0</td><td>4.0</td><td>1.0</td><td>1.0</td><td>1.0</td><td>1.0</td><td>0.0</td><td>1.0</td><td>1.0</td><td>1.0</td><td>0.0</td><td>0.0</td><td>0.0</td><td>0.0</td><td>0.0</td><td>0.0</td><td>0.0</td><td>0.0</td><td>0.0</td><td>0.0</td><td>3.0</td><td>0.0</td><td>1.0</td><td>0.0</td><td>0.0</td><td>0.0</td><td>0.0</td><td>0.0</td><td>0.0</td><td>0.0</td><td>7.0</td><td>0.0</td><td>0.0</td><td>0.0</td><td>0.0</td><td>0.0</td><td>0.0</td><td>0.0</td><td>0.0</td><td>0.0</td><td>0.0</td><td>0.0</td><td>7.0</td><td>7.0</td><td>7.0</td><td>7.0</td><td>0.0</td><td>7.0</td><td>7.0</td><td>7.0</td><td>10.0</td><td>8.0</td><td>9.0</td><td>11.0</td><td>12.0</td><td>9.0</td><td>8.0</td><td>10.0</td></tr><tr><td>1</td><td>5</td><td>&quot;b1c3&quot;</td><td>1227</td><td>1190</td><td>1208.5</td><td>4.0</td><td>2.0</td><td>3.0</td><td>5.0</td><td>6.0</td><td>0.0</td><td>2.0</td><td>4.0</td><td>1.0</td><td>1.0</td><td>1.0</td><td>1.0</td><td>0.0</td><td>1.0</td><td>1.0</td><td>1.0</td><td>0.0</td><td>0.0</td><td>0.0</td><td>0.0</td><td>0.0</td><td>0.0</td><td>0.0</td><td>0.0</td><td>0.0</td><td>0.0</td><td>3.0</td><td>0.0</td><td>1.0</td><td>0.0</td><td>0.0</td><td>0.0</td><td>0.0</td><td>0.0</td><td>0.0</td><td>0.0</td><td>7.0</td><td>0.0</td><td>0.0</td><td>0.0</td><td>0.0</td><td>0.0</td><td>0.0</td><td>0.0</td><td>0.0</td><td>8.0</td><td>0.0</td><td>0.0</td><td>7.0</td><td>7.0</td><td>7.0</td><td>7.0</td><td>0.0</td><td>7.0</td><td>7.0</td><td>7.0</td><td>10.0</td><td>8.0</td><td>9.0</td><td>11.0</td><td>12.0</td><td>9.0</td><td>0.0</td><td>10.0</td></tr><tr><td>1</td><td>6</td><td>&quot;a7a6&quot;</td><td>1227</td><td>1190</td><td>1208.5</td><td>4.0</td><td>0.0</td><td>3.0</td><td>5.0</td><td>6.0</td><td>0.0</td><td>2.0</td><td>4.0</td><td>1.0</td><td>1.0</td><td>1.0</td><td>1.0</td><td>0.0</td><td>1.0</td><td>1.0</td><td>1.0</td><td>0.0</td><td>0.0</td><td>2.0</td><td>0.0</td><td>0.0</td><td>0.0</td><td>0.0</td><td>0.0</td><td>0.0</td><td>0.0</td><td>3.0</td><td>0.0</td><td>1.0</td><td>0.0</td><td>0.0</td><td>0.0</td><td>0.0</td><td>0.0</td><td>0.0</td><td>0.0</td><td>7.0</td><td>0.0</td><td>0.0</td><td>0.0</td><td>0.0</td><td>0.0</td><td>0.0</td><td>0.0</td><td>0.0</td><td>8.0</td><td>0.0</td><td>0.0</td><td>7.0</td><td>7.0</td><td>7.0</td><td>7.0</td><td>0.0</td><td>7.0</td><td>7.0</td><td>7.0</td><td>10.0</td><td>8.0</td><td>9.0</td><td>11.0</td><td>12.0</td><td>9.0</td><td>0.0</td><td>10.0</td></tr><tr><td>1</td><td>7</td><td>&quot;g1f3&quot;</td><td>1227</td><td>1190</td><td>1208.5</td><td>4.0</td><td>0.0</td><td>3.0</td><td>5.0</td><td>6.0</td><td>0.0</td><td>2.0</td><td>4.0</td><td>1.0</td><td>1.0</td><td>1.0</td><td>1.0</td><td>0.0</td><td>1.0</td><td>1.0</td><td>1.0</td><td>0.0</td><td>0.0</td><td>2.0</td><td>0.0</td><td>0.0</td><td>0.0</td><td>0.0</td><td>0.0</td><td>0.0</td><td>0.0</td><td>3.0</td><td>0.0</td><td>1.0</td><td>0.0</td><td>0.0</td><td>0.0</td><td>0.0</td><td>0.0</td><td>0.0</td><td>0.0</td><td>7.0</td><td>0.0</td><td>0.0</td><td>0.0</td><td>7.0</td><td>0.0</td><td>0.0</td><td>0.0</td><td>0.0</td><td>8.0</td><td>0.0</td><td>0.0</td><td>0.0</td><td>7.0</td><td>7.0</td><td>7.0</td><td>0.0</td><td>7.0</td><td>7.0</td><td>7.0</td><td>10.0</td><td>8.0</td><td>9.0</td><td>11.0</td><td>12.0</td><td>9.0</td><td>0.0</td><td>10.0</td></tr><tr><td>1</td><td>8</td><td>&quot;b7b5&quot;</td><td>1227</td><td>1190</td><td>1208.5</td><td>4.0</td><td>0.0</td><td>3.0</td><td>5.0</td><td>6.0</td><td>0.0</td><td>0.0</td><td>4.0</td><td>1.0</td><td>1.0</td><td>1.0</td><td>1.0</td><td>0.0</td><td>1.0</td><td>1.0</td><td>1.0</td><td>0.0</td><td>0.0</td><td>2.0</td><td>0.0</td><td>0.0</td><td>2.0</td><td>0.0</td><td>0.0</td><td>0.0</td><td>0.0</td><td>3.0</td><td>0.0</td><td>1.0</td><td>0.0</td><td>0.0</td><td>0.0</td><td>0.0</td><td>0.0</td><td>0.0</td><td>0.0</td><td>7.0</td><td>0.0</td><td>0.0</td><td>0.0</td><td>7.0</td><td>0.0</td><td>0.0</td><td>0.0</td><td>0.0</td><td>8.0</td><td>0.0</td><td>0.0</td><td>0.0</td><td>7.0</td><td>7.0</td><td>7.0</td><td>0.0</td><td>7.0</td><td>7.0</td><td>7.0</td><td>10.0</td><td>8.0</td><td>9.0</td><td>11.0</td><td>12.0</td><td>9.0</td><td>0.0</td><td>10.0</td></tr></tbody></table></div>"
      ],
      "text/plain": [
       "shape: (5, 70)\n",
       "┌─────┬──────────┬──────────┬───────────┬───┬────────┬────────┬────────┬────────┐\n",
       "│ id  ┆ move_idx ┆ move_uci ┆ white_elo ┆ … ┆ tile74 ┆ tile75 ┆ tile76 ┆ tile77 │\n",
       "│ --- ┆ ---      ┆ ---      ┆ ---       ┆   ┆ ---    ┆ ---    ┆ ---    ┆ ---    │\n",
       "│ i64 ┆ i64      ┆ str      ┆ i64       ┆   ┆ f32    ┆ f32    ┆ f32    ┆ f32    │\n",
       "╞═════╪══════════╪══════════╪═══════════╪═══╪════════╪════════╪════════╪════════╡\n",
       "│ 1   ┆ 4        ┆ g8f6     ┆ 1227      ┆ … ┆ 12.0   ┆ 9.0    ┆ 8.0    ┆ 10.0   │\n",
       "│ 1   ┆ 5        ┆ b1c3     ┆ 1227      ┆ … ┆ 12.0   ┆ 9.0    ┆ 0.0    ┆ 10.0   │\n",
       "│ 1   ┆ 6        ┆ a7a6     ┆ 1227      ┆ … ┆ 12.0   ┆ 9.0    ┆ 0.0    ┆ 10.0   │\n",
       "│ 1   ┆ 7        ┆ g1f3     ┆ 1227      ┆ … ┆ 12.0   ┆ 9.0    ┆ 0.0    ┆ 10.0   │\n",
       "│ 1   ┆ 8        ┆ b7b5     ┆ 1227      ┆ … ┆ 12.0   ┆ 9.0    ┆ 0.0    ┆ 10.0   │\n",
       "└─────┴──────────┴──────────┴───────────┴───┴────────┴────────┴────────┴────────┘"
      ]
     },
     "execution_count": 4,
     "metadata": {},
     "output_type": "execute_result"
    }
   ],
   "source": [
    "def extract_piece(colname: str, col: int) -> pl.Expr:\n",
    "    return (pl.col(colname) // (2 ** (col * 4))) & 0xF\n",
    "\n",
    "df = df.with_columns(\n",
    "    *[\n",
    "        extract_piece(f\"state{i}\", j).cast(pl.Float32).alias(f\"tile{i}{j}\")\n",
    "        for i in range(8)\n",
    "        for j in range(8)\n",
    "    ]\n",
    ").select(\n",
    "    pl.exclude(*[f\"state{i}\" for i in range(8)]),\n",
    ")\n",
    "df.head().collect()"
   ]
  },
  {
   "cell_type": "code",
   "execution_count": 5,
   "id": "7b398070",
   "metadata": {},
   "outputs": [
    {
     "data": {
      "text/html": [
       "<div><style>\n",
       ".dataframe > thead > tr,\n",
       ".dataframe > tbody > tr {\n",
       "  text-align: right;\n",
       "  white-space: pre-wrap;\n",
       "}\n",
       "</style>\n",
       "<small>shape: (5, 70)</small><table border=\"1\" class=\"dataframe\"><thead><tr><th>id</th><th>move_idx</th><th>move_uci</th><th>white_elo</th><th>black_elo</th><th>avg_elo</th><th>tile00</th><th>tile01</th><th>tile02</th><th>tile03</th><th>tile04</th><th>tile05</th><th>tile06</th><th>tile07</th><th>tile10</th><th>tile11</th><th>tile12</th><th>tile13</th><th>tile14</th><th>tile15</th><th>tile16</th><th>tile17</th><th>tile20</th><th>tile21</th><th>tile22</th><th>tile23</th><th>tile24</th><th>tile25</th><th>tile26</th><th>tile27</th><th>tile30</th><th>tile31</th><th>tile32</th><th>tile33</th><th>tile34</th><th>tile35</th><th>tile36</th><th>tile37</th><th>tile40</th><th>tile41</th><th>tile42</th><th>tile43</th><th>tile44</th><th>tile45</th><th>tile46</th><th>tile47</th><th>tile50</th><th>tile51</th><th>tile52</th><th>tile53</th><th>tile54</th><th>tile55</th><th>tile56</th><th>tile57</th><th>tile60</th><th>tile61</th><th>tile62</th><th>tile63</th><th>tile64</th><th>tile65</th><th>tile66</th><th>tile67</th><th>tile70</th><th>tile71</th><th>tile72</th><th>tile73</th><th>tile74</th><th>tile75</th><th>tile76</th><th>tile77</th></tr><tr><td>i64</td><td>i64</td><td>str</td><td>i64</td><td>i64</td><td>f64</td><td>f32</td><td>f32</td><td>f32</td><td>f32</td><td>f32</td><td>f32</td><td>f32</td><td>f32</td><td>f32</td><td>f32</td><td>f32</td><td>f32</td><td>f32</td><td>f32</td><td>f32</td><td>f32</td><td>f32</td><td>f32</td><td>f32</td><td>f32</td><td>f32</td><td>f32</td><td>f32</td><td>f32</td><td>f32</td><td>f32</td><td>f32</td><td>f32</td><td>f32</td><td>f32</td><td>f32</td><td>f32</td><td>f32</td><td>f32</td><td>f32</td><td>f32</td><td>f32</td><td>f32</td><td>f32</td><td>f32</td><td>f32</td><td>f32</td><td>f32</td><td>f32</td><td>f32</td><td>f32</td><td>f32</td><td>f32</td><td>f32</td><td>f32</td><td>f32</td><td>f32</td><td>f32</td><td>f32</td><td>f32</td><td>f32</td><td>f32</td><td>f32</td><td>f32</td><td>f32</td><td>f32</td><td>f32</td><td>f32</td><td>f32</td></tr></thead><tbody><tr><td>1</td><td>18</td><td>&quot;f6e4&quot;</td><td>1227</td><td>1190</td><td>1208.5</td><td>4.0</td><td>0.0</td><td>3.0</td><td>5.0</td><td>6.0</td><td>0.0</td><td>0.0</td><td>4.0</td><td>1.0</td><td>1.0</td><td>1.0</td><td>1.0</td><td>0.0</td><td>1.0</td><td>1.0</td><td>1.0</td><td>0.0</td><td>3.0</td><td>2.0</td><td>0.0</td><td>0.0</td><td>0.0</td><td>0.0</td><td>0.0</td><td>0.0</td><td>0.0</td><td>0.0</td><td>0.0</td><td>1.0</td><td>0.0</td><td>0.0</td><td>0.0</td><td>0.0</td><td>7.0</td><td>9.0</td><td>0.0</td><td>0.0</td><td>0.0</td><td>2.0</td><td>0.0</td><td>7.0</td><td>0.0</td><td>7.0</td><td>0.0</td><td>0.0</td><td>8.0</td><td>0.0</td><td>0.0</td><td>0.0</td><td>0.0</td><td>0.0</td><td>7.0</td><td>11.0</td><td>0.0</td><td>7.0</td><td>7.0</td><td>10.0</td><td>8.0</td><td>9.0</td><td>0.0</td><td>12.0</td><td>10.0</td><td>0.0</td><td>0.0</td></tr><tr><td>1</td><td>38</td><td>&quot;f5g4&quot;</td><td>1227</td><td>1190</td><td>1208.5</td><td>4.0</td><td>0.0</td><td>3.0</td><td>5.0</td><td>0.0</td><td>0.0</td><td>0.0</td><td>4.0</td><td>1.0</td><td>1.0</td><td>1.0</td><td>1.0</td><td>6.0</td><td>0.0</td><td>1.0</td><td>1.0</td><td>0.0</td><td>3.0</td><td>2.0</td><td>0.0</td><td>0.0</td><td>0.0</td><td>0.0</td><td>0.0</td><td>0.0</td><td>0.0</td><td>0.0</td><td>0.0</td><td>2.0</td><td>0.0</td><td>0.0</td><td>0.0</td><td>0.0</td><td>7.0</td><td>8.0</td><td>0.0</td><td>0.0</td><td>9.0</td><td>0.0</td><td>0.0</td><td>7.0</td><td>11.0</td><td>0.0</td><td>0.0</td><td>0.0</td><td>0.0</td><td>0.0</td><td>0.0</td><td>0.0</td><td>0.0</td><td>0.0</td><td>0.0</td><td>0.0</td><td>0.0</td><td>7.0</td><td>7.0</td><td>10.0</td><td>0.0</td><td>0.0</td><td>0.0</td><td>12.0</td><td>10.0</td><td>0.0</td><td>0.0</td></tr><tr><td>1</td><td>41</td><td>&quot;e1d1&quot;</td><td>1227</td><td>1190</td><td>1208.5</td><td>4.0</td><td>0.0</td><td>3.0</td><td>9.0</td><td>6.0</td><td>0.0</td><td>0.0</td><td>4.0</td><td>1.0</td><td>1.0</td><td>1.0</td><td>1.0</td><td>0.0</td><td>0.0</td><td>1.0</td><td>1.0</td><td>0.0</td><td>3.0</td><td>2.0</td><td>0.0</td><td>0.0</td><td>0.0</td><td>0.0</td><td>0.0</td><td>0.0</td><td>0.0</td><td>0.0</td><td>0.0</td><td>2.0</td><td>0.0</td><td>0.0</td><td>0.0</td><td>0.0</td><td>7.0</td><td>8.0</td><td>0.0</td><td>0.0</td><td>0.0</td><td>0.0</td><td>0.0</td><td>7.0</td><td>11.0</td><td>0.0</td><td>0.0</td><td>0.0</td><td>0.0</td><td>0.0</td><td>0.0</td><td>0.0</td><td>0.0</td><td>0.0</td><td>0.0</td><td>0.0</td><td>0.0</td><td>7.0</td><td>7.0</td><td>10.0</td><td>0.0</td><td>0.0</td><td>0.0</td><td>12.0</td><td>10.0</td><td>0.0</td><td>0.0</td></tr><tr><td>1</td><td>43</td><td>&quot;c3e4&quot;</td><td>1227</td><td>1190</td><td>1208.5</td><td>4.0</td><td>0.0</td><td>3.0</td><td>6.0</td><td>0.0</td><td>0.0</td><td>0.0</td><td>4.0</td><td>1.0</td><td>1.0</td><td>1.0</td><td>1.0</td><td>0.0</td><td>0.0</td><td>1.0</td><td>1.0</td><td>0.0</td><td>3.0</td><td>2.0</td><td>0.0</td><td>0.0</td><td>0.0</td><td>0.0</td><td>0.0</td><td>0.0</td><td>0.0</td><td>0.0</td><td>0.0</td><td>8.0</td><td>0.0</td><td>0.0</td><td>0.0</td><td>0.0</td><td>7.0</td><td>0.0</td><td>0.0</td><td>0.0</td><td>0.0</td><td>0.0</td><td>0.0</td><td>7.0</td><td>11.0</td><td>0.0</td><td>0.0</td><td>0.0</td><td>0.0</td><td>0.0</td><td>0.0</td><td>0.0</td><td>0.0</td><td>0.0</td><td>0.0</td><td>0.0</td><td>0.0</td><td>7.0</td><td>7.0</td><td>10.0</td><td>0.0</td><td>0.0</td><td>0.0</td><td>12.0</td><td>10.0</td><td>0.0</td><td>0.0</td></tr><tr><td>1</td><td>51</td><td>&quot;h1e1&quot;</td><td>1227</td><td>1190</td><td>1208.5</td><td>4.0</td><td>0.0</td><td>0.0</td><td>6.0</td><td>0.0</td><td>0.0</td><td>0.0</td><td>4.0</td><td>1.0</td><td>1.0</td><td>1.0</td><td>0.0</td><td>0.0</td><td>0.0</td><td>1.0</td><td>1.0</td><td>0.0</td><td>3.0</td><td>0.0</td><td>1.0</td><td>0.0</td><td>0.0</td><td>0.0</td><td>0.0</td><td>0.0</td><td>0.0</td><td>0.0</td><td>0.0</td><td>0.0</td><td>3.0</td><td>0.0</td><td>0.0</td><td>0.0</td><td>7.0</td><td>0.0</td><td>0.0</td><td>0.0</td><td>0.0</td><td>0.0</td><td>0.0</td><td>7.0</td><td>0.0</td><td>0.0</td><td>0.0</td><td>0.0</td><td>7.0</td><td>0.0</td><td>0.0</td><td>0.0</td><td>0.0</td><td>0.0</td><td>0.0</td><td>0.0</td><td>0.0</td><td>0.0</td><td>7.0</td><td>0.0</td><td>0.0</td><td>0.0</td><td>10.0</td><td>12.0</td><td>0.0</td><td>0.0</td><td>0.0</td></tr></tbody></table></div>"
      ],
      "text/plain": [
       "shape: (5, 70)\n",
       "┌─────┬──────────┬──────────┬───────────┬───┬────────┬────────┬────────┬────────┐\n",
       "│ id  ┆ move_idx ┆ move_uci ┆ white_elo ┆ … ┆ tile74 ┆ tile75 ┆ tile76 ┆ tile77 │\n",
       "│ --- ┆ ---      ┆ ---      ┆ ---       ┆   ┆ ---    ┆ ---    ┆ ---    ┆ ---    │\n",
       "│ i64 ┆ i64      ┆ str      ┆ i64       ┆   ┆ f32    ┆ f32    ┆ f32    ┆ f32    │\n",
       "╞═════╪══════════╪══════════╪═══════════╪═══╪════════╪════════╪════════╪════════╡\n",
       "│ 1   ┆ 18       ┆ f6e4     ┆ 1227      ┆ … ┆ 12.0   ┆ 10.0   ┆ 0.0    ┆ 0.0    │\n",
       "│ 1   ┆ 38       ┆ f5g4     ┆ 1227      ┆ … ┆ 12.0   ┆ 10.0   ┆ 0.0    ┆ 0.0    │\n",
       "│ 1   ┆ 41       ┆ e1d1     ┆ 1227      ┆ … ┆ 12.0   ┆ 10.0   ┆ 0.0    ┆ 0.0    │\n",
       "│ 1   ┆ 43       ┆ c3e4     ┆ 1227      ┆ … ┆ 12.0   ┆ 10.0   ┆ 0.0    ┆ 0.0    │\n",
       "│ 1   ┆ 51       ┆ h1e1     ┆ 1227      ┆ … ┆ 12.0   ┆ 0.0    ┆ 0.0    ┆ 0.0    │\n",
       "└─────┴──────────┴──────────┴───────────┴───┴────────┴────────┴────────┴────────┘"
      ]
     },
     "execution_count": 5,
     "metadata": {},
     "output_type": "execute_result"
    }
   ],
   "source": [
    "df_sampled = (\n",
    "    df.group_by(\"id\")\n",
    "      .agg(pl.all().exclude(\"id\").sample(fraction=fraction, seed=seed))\n",
    "      .explode(pl.all().exclude(\"id\"))\n",
    ").sort(\"id\", \"move_idx\")\n",
    "\n",
    "df_sampled.head().collect()"
   ]
  },
  {
   "cell_type": "code",
   "execution_count": 7,
   "id": "b9eeddf5",
   "metadata": {},
   "outputs": [],
   "source": [
    "df_sampled.collect().write_parquet(\"output/per_move_sampled.parquet\")"
   ]
  },
  {
   "cell_type": "code",
   "execution_count": null,
   "id": "e767a45e",
   "metadata": {},
   "outputs": [],
   "source": []
  }
 ],
 "metadata": {
  "kernelspec": {
   "display_name": "elo-estimator",
   "language": "python",
   "name": "python3"
  },
  "language_info": {
   "codemirror_mode": {
    "name": "ipython",
    "version": 3
   },
   "file_extension": ".py",
   "mimetype": "text/x-python",
   "name": "python",
   "nbconvert_exporter": "python",
   "pygments_lexer": "ipython3",
   "version": "3.13.7"
  }
 },
 "nbformat": 4,
 "nbformat_minor": 5
}
