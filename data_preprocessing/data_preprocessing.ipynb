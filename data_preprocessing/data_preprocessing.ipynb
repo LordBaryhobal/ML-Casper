{
 "cells": [
  {
   "cell_type": "code",
   "execution_count": 2,
   "id": "0134a9e4",
   "metadata": {},
   "outputs": [],
   "source": [
    "import polars as pl"
   ]
  },
  {
   "cell_type": "code",
   "execution_count": 3,
   "id": "81998f99",
   "metadata": {},
   "outputs": [
    {
     "data": {
      "text/html": [
       "<div><style>\n",
       ".dataframe > thead > tr,\n",
       ".dataframe > tbody > tr {\n",
       "  text-align: right;\n",
       "  white-space: pre-wrap;\n",
       "}\n",
       "</style>\n",
       "<small>shape: (1_742_733, 20)</small><table border=\"1\" class=\"dataframe\"><thead><tr><th>Event</th><th>Site</th><th>Date</th><th>Round</th><th>White</th><th>Black</th><th>Result</th><th>UTCDate</th><th>UTCTime</th><th>WhiteElo</th><th>BlackElo</th><th>WhiteRatingDiff</th><th>BlackRatingDiff</th><th>ECO</th><th>Opening</th><th>TimeControl</th><th>Termination</th><th>LichessId</th><th>Winner</th><th>Moves</th></tr><tr><td>str</td><td>str</td><td>str</td><td>str</td><td>str</td><td>str</td><td>str</td><td>str</td><td>str</td><td>i64</td><td>i64</td><td>str</td><td>str</td><td>str</td><td>str</td><td>str</td><td>str</td><td>str</td><td>str</td><td>str</td></tr></thead><tbody><tr><td>&quot;Rated Blitz game&quot;</td><td>&quot;https://lichess.org/f2Oejy7P&quot;</td><td>null</td><td>null</td><td>&quot;inthisposition&quot;</td><td>&quot;Boletov&quot;</td><td>&quot;1-0&quot;</td><td>&quot;2015.02.28&quot;</td><td>&quot;23:00:00&quot;</td><td>1821</td><td>1785</td><td>&quot;+10&quot;</td><td>&quot;-17&quot;</td><td>&quot;A85&quot;</td><td>&quot;Dutch Defense: Queen&#x27;s Knight …</td><td>&quot;300+0&quot;</td><td>&quot;Time forfeit&quot;</td><td>&quot;f2Oejy7P&quot;</td><td>&quot;White&quot;</td><td>&quot;1. d4 f5 2. c4 Nf6 3. Nc3 g6 4…</td></tr><tr><td>&quot;Rated Bullet tournament https:…</td><td>&quot;https://lichess.org/zlwraOPi&quot;</td><td>null</td><td>null</td><td>&quot;jose_sky_1233&quot;</td><td>&quot;_____-&quot;</td><td>&quot;0-1&quot;</td><td>&quot;2015.02.28&quot;</td><td>&quot;23:00:02&quot;</td><td>1302</td><td>1655</td><td>&quot;-20&quot;</td><td>&quot;+3&quot;</td><td>&quot;C65&quot;</td><td>&quot;Ruy Lopez: Berlin Defense #2&quot;</td><td>&quot;60+0&quot;</td><td>&quot;Normal&quot;</td><td>&quot;zlwraOPi&quot;</td><td>&quot;Black&quot;</td><td>&quot;1. e4 e5 2. Nf3 Nc6 3. Bb5 Nf6…</td></tr><tr><td>&quot;Rated Bullet tournament https:…</td><td>&quot;https://lichess.org/6xLKzWQ5&quot;</td><td>null</td><td>null</td><td>&quot;sofia23058&quot;</td><td>&quot;Farnese&quot;</td><td>&quot;0-1&quot;</td><td>&quot;2015.02.28&quot;</td><td>&quot;23:00:02&quot;</td><td>1500</td><td>1636</td><td>&quot;-121&quot;</td><td>&quot;+23&quot;</td><td>&quot;A00&quot;</td><td>&quot;Mieses Opening&quot;</td><td>&quot;60+0&quot;</td><td>&quot;Time forfeit&quot;</td><td>&quot;6xLKzWQ5&quot;</td><td>&quot;Black&quot;</td><td>&quot;1. d3 Nf6 2. e3 e5 3. d4 exd4 …</td></tr><tr><td>&quot;Rated Bullet tournament https:…</td><td>&quot;https://lichess.org/aSWMBMRI&quot;</td><td>null</td><td>null</td><td>&quot;lunas&quot;</td><td>&quot;FrancoValussi&quot;</td><td>&quot;1-0&quot;</td><td>&quot;2015.02.28&quot;</td><td>&quot;23:00:02&quot;</td><td>1767</td><td>1700</td><td>&quot;+9&quot;</td><td>&quot;-14&quot;</td><td>&quot;A40&quot;</td><td>&quot;Modern Defense&quot;</td><td>&quot;60+0&quot;</td><td>&quot;Normal&quot;</td><td>&quot;aSWMBMRI&quot;</td><td>&quot;White&quot;</td><td>&quot;1. d4 g6 2. c4 Bg7 3. Nc3 e6 4…</td></tr><tr><td>&quot;Rated Blitz game&quot;</td><td>&quot;https://lichess.org/YmWK0unz&quot;</td><td>null</td><td>null</td><td>&quot;zivkoj&quot;</td><td>&quot;Atlec&quot;</td><td>&quot;0-1&quot;</td><td>&quot;2015.02.28&quot;</td><td>&quot;23:00:04&quot;</td><td>1741</td><td>1409</td><td>&quot;-19&quot;</td><td>&quot;+20&quot;</td><td>&quot;B20&quot;</td><td>&quot;Sicilian Defense: Bowdler Atta…</td><td>&quot;300+0&quot;</td><td>&quot;Time forfeit&quot;</td><td>&quot;YmWK0unz&quot;</td><td>&quot;Black&quot;</td><td>&quot;1. e4 c5 2. Bc4 e6 3. a3 a6 4.…</td></tr><tr><td>&hellip;</td><td>&hellip;</td><td>&hellip;</td><td>&hellip;</td><td>&hellip;</td><td>&hellip;</td><td>&hellip;</td><td>&hellip;</td><td>&hellip;</td><td>&hellip;</td><td>&hellip;</td><td>&hellip;</td><td>&hellip;</td><td>&hellip;</td><td>&hellip;</td><td>&hellip;</td><td>&hellip;</td><td>&hellip;</td><td>&hellip;</td><td>&hellip;</td></tr><tr><td>&quot;Rated Bullet game&quot;</td><td>&quot;https://lichess.org/72WcGT27&quot;</td><td>null</td><td>null</td><td>&quot;fitoGM&quot;</td><td>&quot;NoSurrenderNoRetreat&quot;</td><td>&quot;1-0&quot;</td><td>&quot;2015.03.31&quot;</td><td>&quot;21:45:55&quot;</td><td>1499</td><td>1449</td><td>&quot;+9&quot;</td><td>&quot;-9&quot;</td><td>&quot;C40&quot;</td><td>&quot;King&#x27;s Pawn Game: Busch-Gass G…</td><td>&quot;120+0&quot;</td><td>&quot;Normal&quot;</td><td>&quot;72WcGT27&quot;</td><td>&quot;White&quot;</td><td>&quot;1. e4 e5 2. Nf3 Bc5 3. d3 Nf6 …</td></tr><tr><td>&quot;Rated Bullet game&quot;</td><td>&quot;https://lichess.org/erHKEkFb&quot;</td><td>null</td><td>null</td><td>&quot;SteveTChess&quot;</td><td>&quot;Overkill&quot;</td><td>&quot;0-1&quot;</td><td>&quot;2015.03.31&quot;</td><td>&quot;21:45:56&quot;</td><td>1225</td><td>1193</td><td>&quot;-12&quot;</td><td>&quot;+12&quot;</td><td>&quot;A40&quot;</td><td>&quot;Englund Gambit&quot;</td><td>&quot;0+3&quot;</td><td>&quot;Time forfeit&quot;</td><td>&quot;erHKEkFb&quot;</td><td>&quot;Black&quot;</td><td>&quot;1. d4 e5 2. c4 exd4 3. Qxd4 d6…</td></tr><tr><td>&quot;Rated Blitz game&quot;</td><td>&quot;https://lichess.org/f851wKpF&quot;</td><td>null</td><td>null</td><td>&quot;nevertheless&quot;</td><td>&quot;madrid-quintana05&quot;</td><td>&quot;0-1&quot;</td><td>&quot;2015.03.31&quot;</td><td>&quot;21:45:57&quot;</td><td>1340</td><td>1656</td><td>&quot;-17&quot;</td><td>&quot;+3&quot;</td><td>&quot;B06&quot;</td><td>&quot;Robatsch (Modern) Defense&quot;</td><td>&quot;180+0&quot;</td><td>&quot;Normal&quot;</td><td>&quot;f851wKpF&quot;</td><td>&quot;Black&quot;</td><td>&quot;1. e4 g6 2. d4 Bg7 3. e5 d6 4.…</td></tr><tr><td>&quot;Rated Blitz game&quot;</td><td>&quot;https://lichess.org/1SmXOHGi&quot;</td><td>null</td><td>null</td><td>&quot;lancerisimo&quot;</td><td>&quot;pdragan54&quot;</td><td>&quot;1/2-1/2&quot;</td><td>&quot;2015.03.31&quot;</td><td>&quot;21:45:57&quot;</td><td>2039</td><td>2069</td><td>&quot;+1&quot;</td><td>&quot;-1&quot;</td><td>&quot;C50&quot;</td><td>&quot;Italian Game: Hungarian Defens…</td><td>&quot;300+0&quot;</td><td>&quot;Time forfeit&quot;</td><td>&quot;1SmXOHGi&quot;</td><td>&quot;Draw&quot;</td><td>&quot;1. e4 e5 2. Nf3 Nc6 3. Bc4 Be7…</td></tr><tr><td>&quot;Rated Bullet game&quot;</td><td>&quot;https://lichess.org/F3hZWn67&quot;</td><td>null</td><td>null</td><td>&quot;rafurni&quot;</td><td>&quot;aristillusbas&quot;</td><td>&quot;1-0&quot;</td><td>&quot;2015.03.31&quot;</td><td>&quot;21:46:00&quot;</td><td>1743</td><td>1331</td><td>&quot;+2&quot;</td><td>&quot;-3&quot;</td><td>&quot;A04&quot;</td><td>&quot;Zukertort Opening: Queen&#x27;s Gam…</td><td>&quot;0+1&quot;</td><td>&quot;Time forfeit&quot;</td><td>&quot;F3hZWn67&quot;</td><td>&quot;White&quot;</td><td>&quot;1. Nf3 e6 2. g3 f6 3. Bg2 g5 4…</td></tr></tbody></table></div>"
      ],
      "text/plain": [
       "shape: (1_742_733, 20)\n",
       "┌──────────────┬──────────────┬──────┬───────┬───┬──────────────┬───────────┬────────┬─────────────┐\n",
       "│ Event        ┆ Site         ┆ Date ┆ Round ┆ … ┆ Termination  ┆ LichessId ┆ Winner ┆ Moves       │\n",
       "│ ---          ┆ ---          ┆ ---  ┆ ---   ┆   ┆ ---          ┆ ---       ┆ ---    ┆ ---         │\n",
       "│ str          ┆ str          ┆ str  ┆ str   ┆   ┆ str          ┆ str       ┆ str    ┆ str         │\n",
       "╞══════════════╪══════════════╪══════╪═══════╪═══╪══════════════╪═══════════╪════════╪═════════════╡\n",
       "│ Rated Blitz  ┆ https://lich ┆ null ┆ null  ┆ … ┆ Time forfeit ┆ f2Oejy7P  ┆ White  ┆ 1. d4 f5 2. │\n",
       "│ game         ┆ ess.org/f2Oe ┆      ┆       ┆   ┆              ┆           ┆        ┆ c4 Nf6 3.   │\n",
       "│              ┆ jy7P         ┆      ┆       ┆   ┆              ┆           ┆        ┆ Nc3 g6 4…   │\n",
       "│ Rated Bullet ┆ https://lich ┆ null ┆ null  ┆ … ┆ Normal       ┆ zlwraOPi  ┆ Black  ┆ 1. e4 e5 2. │\n",
       "│ tournament   ┆ ess.org/zlwr ┆      ┆       ┆   ┆              ┆           ┆        ┆ Nf3 Nc6 3.  │\n",
       "│ https:…      ┆ aOPi         ┆      ┆       ┆   ┆              ┆           ┆        ┆ Bb5 Nf6…    │\n",
       "│ Rated Bullet ┆ https://lich ┆ null ┆ null  ┆ … ┆ Time forfeit ┆ 6xLKzWQ5  ┆ Black  ┆ 1. d3 Nf6   │\n",
       "│ tournament   ┆ ess.org/6xLK ┆      ┆       ┆   ┆              ┆           ┆        ┆ 2. e3 e5 3. │\n",
       "│ https:…      ┆ zWQ5         ┆      ┆       ┆   ┆              ┆           ┆        ┆ d4 exd4 …   │\n",
       "│ Rated Bullet ┆ https://lich ┆ null ┆ null  ┆ … ┆ Normal       ┆ aSWMBMRI  ┆ White  ┆ 1. d4 g6 2. │\n",
       "│ tournament   ┆ ess.org/aSWM ┆      ┆       ┆   ┆              ┆           ┆        ┆ c4 Bg7 3.   │\n",
       "│ https:…      ┆ BMRI         ┆      ┆       ┆   ┆              ┆           ┆        ┆ Nc3 e6 4…   │\n",
       "│ Rated Blitz  ┆ https://lich ┆ null ┆ null  ┆ … ┆ Time forfeit ┆ YmWK0unz  ┆ Black  ┆ 1. e4 c5 2. │\n",
       "│ game         ┆ ess.org/YmWK ┆      ┆       ┆   ┆              ┆           ┆        ┆ Bc4 e6 3.   │\n",
       "│              ┆ 0unz         ┆      ┆       ┆   ┆              ┆           ┆        ┆ a3 a6 4.…   │\n",
       "│ …            ┆ …            ┆ …    ┆ …     ┆ … ┆ …            ┆ …         ┆ …      ┆ …           │\n",
       "│ Rated Bullet ┆ https://lich ┆ null ┆ null  ┆ … ┆ Normal       ┆ 72WcGT27  ┆ White  ┆ 1. e4 e5 2. │\n",
       "│ game         ┆ ess.org/72Wc ┆      ┆       ┆   ┆              ┆           ┆        ┆ Nf3 Bc5 3.  │\n",
       "│              ┆ GT27         ┆      ┆       ┆   ┆              ┆           ┆        ┆ d3 Nf6 …    │\n",
       "│ Rated Bullet ┆ https://lich ┆ null ┆ null  ┆ … ┆ Time forfeit ┆ erHKEkFb  ┆ Black  ┆ 1. d4 e5 2. │\n",
       "│ game         ┆ ess.org/erHK ┆      ┆       ┆   ┆              ┆           ┆        ┆ c4 exd4 3.  │\n",
       "│              ┆ EkFb         ┆      ┆       ┆   ┆              ┆           ┆        ┆ Qxd4 d6…    │\n",
       "│ Rated Blitz  ┆ https://lich ┆ null ┆ null  ┆ … ┆ Normal       ┆ f851wKpF  ┆ Black  ┆ 1. e4 g6 2. │\n",
       "│ game         ┆ ess.org/f851 ┆      ┆       ┆   ┆              ┆           ┆        ┆ d4 Bg7 3.   │\n",
       "│              ┆ wKpF         ┆      ┆       ┆   ┆              ┆           ┆        ┆ e5 d6 4.…   │\n",
       "│ Rated Blitz  ┆ https://lich ┆ null ┆ null  ┆ … ┆ Time forfeit ┆ 1SmXOHGi  ┆ Draw   ┆ 1. e4 e5 2. │\n",
       "│ game         ┆ ess.org/1SmX ┆      ┆       ┆   ┆              ┆           ┆        ┆ Nf3 Nc6 3.  │\n",
       "│              ┆ OHGi         ┆      ┆       ┆   ┆              ┆           ┆        ┆ Bc4 Be7…    │\n",
       "│ Rated Bullet ┆ https://lich ┆ null ┆ null  ┆ … ┆ Time forfeit ┆ F3hZWn67  ┆ White  ┆ 1. Nf3 e6   │\n",
       "│ game         ┆ ess.org/F3hZ ┆      ┆       ┆   ┆              ┆           ┆        ┆ 2. g3 f6 3. │\n",
       "│              ┆ Wn67         ┆      ┆       ┆   ┆              ┆           ┆        ┆ Bg2 g5 4…   │\n",
       "└──────────────┴──────────────┴──────┴───────┴───┴──────────────┴───────────┴────────┴─────────────┘"
      ]
     },
     "execution_count": 3,
     "metadata": {},
     "output_type": "execute_result"
    }
   ],
   "source": [
    "file = \"data/lichess_db_standard_rated_2015-03.csv\"\n",
    "df = pl.scan_csv(file, null_values=[\"?\", \"\", \"????.??.??\"])\n",
    "df.collect()"
   ]
  },
  {
   "cell_type": "markdown",
   "id": "0607d72e",
   "metadata": {},
   "source": [
    "##### Keep only rated standard game and filter null"
   ]
  },
  {
   "cell_type": "code",
   "execution_count": 4,
   "id": "ac93e185",
   "metadata": {},
   "outputs": [
    {
     "data": {
      "text/html": [
       "<div><style>\n",
       ".dataframe > thead > tr,\n",
       ".dataframe > tbody > tr {\n",
       "  text-align: right;\n",
       "  white-space: pre-wrap;\n",
       "}\n",
       "</style>\n",
       "<small>shape: (1, 20)</small><table border=\"1\" class=\"dataframe\"><thead><tr><th>Event</th><th>Site</th><th>Date</th><th>Round</th><th>White</th><th>Black</th><th>Result</th><th>UTCDate</th><th>UTCTime</th><th>WhiteElo</th><th>BlackElo</th><th>WhiteRatingDiff</th><th>BlackRatingDiff</th><th>ECO</th><th>Opening</th><th>TimeControl</th><th>Termination</th><th>LichessId</th><th>Winner</th><th>Moves</th></tr><tr><td>u32</td><td>u32</td><td>u32</td><td>u32</td><td>u32</td><td>u32</td><td>u32</td><td>u32</td><td>u32</td><td>u32</td><td>u32</td><td>u32</td><td>u32</td><td>u32</td><td>u32</td><td>u32</td><td>u32</td><td>u32</td><td>u32</td><td>u32</td></tr></thead><tbody><tr><td>0</td><td>0</td><td>1742733</td><td>1742733</td><td>27</td><td>6</td><td>0</td><td>0</td><td>0</td><td>0</td><td>1</td><td>27704</td><td>27704</td><td>15607</td><td>15607</td><td>0</td><td>0</td><td>0</td><td>0</td><td>0</td></tr></tbody></table></div>"
      ],
      "text/plain": [
       "shape: (1, 20)\n",
       "┌───────┬──────┬─────────┬─────────┬───┬─────────────┬───────────┬────────┬───────┐\n",
       "│ Event ┆ Site ┆ Date    ┆ Round   ┆ … ┆ Termination ┆ LichessId ┆ Winner ┆ Moves │\n",
       "│ ---   ┆ ---  ┆ ---     ┆ ---     ┆   ┆ ---         ┆ ---       ┆ ---    ┆ ---   │\n",
       "│ u32   ┆ u32  ┆ u32     ┆ u32     ┆   ┆ u32         ┆ u32       ┆ u32    ┆ u32   │\n",
       "╞═══════╪══════╪═════════╪═════════╪═══╪═════════════╪═══════════╪════════╪═══════╡\n",
       "│ 0     ┆ 0    ┆ 1742733 ┆ 1742733 ┆ … ┆ 0           ┆ 0         ┆ 0      ┆ 0     │\n",
       "└───────┴──────┴─────────┴─────────┴───┴─────────────┴───────────┴────────┴───────┘"
      ]
     },
     "execution_count": 4,
     "metadata": {},
     "output_type": "execute_result"
    }
   ],
   "source": [
    "df.null_count().collect()"
   ]
  },
  {
   "cell_type": "code",
   "execution_count": 5,
   "id": "34a3652c",
   "metadata": {},
   "outputs": [
    {
     "data": {
      "text/html": [
       "<div><style>\n",
       ".dataframe > thead > tr,\n",
       ".dataframe > tbody > tr {\n",
       "  text-align: right;\n",
       "  white-space: pre-wrap;\n",
       "}\n",
       "</style>\n",
       "<small>shape: (5, 20)</small><table border=\"1\" class=\"dataframe\"><thead><tr><th>Event</th><th>Site</th><th>Date</th><th>Round</th><th>White</th><th>Black</th><th>Result</th><th>UTCDate</th><th>UTCTime</th><th>WhiteElo</th><th>BlackElo</th><th>WhiteRatingDiff</th><th>BlackRatingDiff</th><th>ECO</th><th>Opening</th><th>TimeControl</th><th>Termination</th><th>LichessId</th><th>Winner</th><th>Moves</th></tr><tr><td>str</td><td>str</td><td>str</td><td>str</td><td>str</td><td>str</td><td>str</td><td>str</td><td>str</td><td>i64</td><td>i64</td><td>str</td><td>str</td><td>str</td><td>str</td><td>str</td><td>str</td><td>str</td><td>str</td><td>str</td></tr></thead><tbody><tr><td>&quot;Rated Standard game&quot;</td><td>&quot;https://lichess.org/5bMFWthU&quot;</td><td>null</td><td>null</td><td>&quot;breves&quot;</td><td>&quot;riiton&quot;</td><td>&quot;1-0&quot;</td><td>&quot;2015.02.28&quot;</td><td>&quot;23:00:05&quot;</td><td>1227</td><td>1190</td><td>&quot;+11&quot;</td><td>&quot;-17&quot;</td><td>&quot;C26&quot;</td><td>&quot;Vienna Game: Stanley Variation&quot;</td><td>&quot;480+8&quot;</td><td>&quot;Normal&quot;</td><td>&quot;5bMFWthU&quot;</td><td>&quot;White&quot;</td><td>&quot;1. e4 e5 2. Bc4 Nf6 3. Nc3 a6 …</td></tr><tr><td>&quot;Rated Standard game&quot;</td><td>&quot;https://lichess.org/HrsXyTcY&quot;</td><td>null</td><td>null</td><td>&quot;mironi&quot;</td><td>&quot;grimshanky&quot;</td><td>&quot;0-1&quot;</td><td>&quot;2015.02.28&quot;</td><td>&quot;23:00:07&quot;</td><td>1599</td><td>1582</td><td>&quot;-11&quot;</td><td>&quot;+12&quot;</td><td>&quot;C20&quot;</td><td>&quot;King&#x27;s Pawn Game: Leonardis Va…</td><td>&quot;180+10&quot;</td><td>&quot;Time forfeit&quot;</td><td>&quot;HrsXyTcY&quot;</td><td>&quot;Black&quot;</td><td>&quot;1. e4 e5 2. d3 c5 3. c4 Be7 4.…</td></tr><tr><td>&quot;Rated Standard game&quot;</td><td>&quot;https://lichess.org/T1oKpChq&quot;</td><td>null</td><td>null</td><td>&quot;foss2015&quot;</td><td>&quot;fortune-kook&quot;</td><td>&quot;0-1&quot;</td><td>&quot;2015.02.28&quot;</td><td>&quot;23:00:23&quot;</td><td>1519</td><td>1479</td><td>&quot;-13&quot;</td><td>&quot;+12&quot;</td><td>&quot;A45&quot;</td><td>&quot;Indian Game&quot;</td><td>&quot;360+4&quot;</td><td>&quot;Normal&quot;</td><td>&quot;T1oKpChq&quot;</td><td>&quot;Black&quot;</td><td>&quot;1. d4 Nf6 2. Nc3 e6 3. Bf4 d5 …</td></tr><tr><td>&quot;Rated Standard game&quot;</td><td>&quot;https://lichess.org/nnWTaJNC&quot;</td><td>null</td><td>null</td><td>&quot;LittleCartier&quot;</td><td>&quot;vilassarxavi&quot;</td><td>&quot;0-1&quot;</td><td>&quot;2015.02.28&quot;</td><td>&quot;23:00:23&quot;</td><td>1315</td><td>1371</td><td>&quot;-9&quot;</td><td>&quot;+9&quot;</td><td>&quot;C40&quot;</td><td>&quot;Latvian Gambit Accepted&quot;</td><td>&quot;300+8&quot;</td><td>&quot;Normal&quot;</td><td>&quot;nnWTaJNC&quot;</td><td>&quot;Black&quot;</td><td>&quot;1. e4 e5 2. Nf3 f5 3. exf5 Nf6…</td></tr><tr><td>&quot;Rated Standard game&quot;</td><td>&quot;https://lichess.org/zScnfQPZ&quot;</td><td>null</td><td>null</td><td>&quot;CRNI75&quot;</td><td>&quot;zaharof2010&quot;</td><td>&quot;1-0&quot;</td><td>&quot;2015.02.28&quot;</td><td>&quot;23:00:25&quot;</td><td>1589</td><td>1329</td><td>&quot;+4&quot;</td><td>&quot;-6&quot;</td><td>&quot;C40&quot;</td><td>&quot;King&#x27;s Pawn Game: McConnell De…</td><td>&quot;420+3&quot;</td><td>&quot;Normal&quot;</td><td>&quot;zScnfQPZ&quot;</td><td>&quot;White&quot;</td><td>&quot;1. e4 e5 2. Nf3 Qf6 3. Nc3 Be7…</td></tr></tbody></table></div>"
      ],
      "text/plain": [
       "shape: (5, 20)\n",
       "┌──────────┬───────────────┬──────┬───────┬───┬───────────────┬───────────┬────────┬───────────────┐\n",
       "│ Event    ┆ Site          ┆ Date ┆ Round ┆ … ┆ Termination   ┆ LichessId ┆ Winner ┆ Moves         │\n",
       "│ ---      ┆ ---           ┆ ---  ┆ ---   ┆   ┆ ---           ┆ ---       ┆ ---    ┆ ---           │\n",
       "│ str      ┆ str           ┆ str  ┆ str   ┆   ┆ str           ┆ str       ┆ str    ┆ str           │\n",
       "╞══════════╪═══════════════╪══════╪═══════╪═══╪═══════════════╪═══════════╪════════╪═══════════════╡\n",
       "│ Rated    ┆ https://liche ┆ null ┆ null  ┆ … ┆ Normal        ┆ 5bMFWthU  ┆ White  ┆ 1. e4 e5 2.   │\n",
       "│ Standard ┆ ss.org/5bMFWt ┆      ┆       ┆   ┆               ┆           ┆        ┆ Bc4 Nf6 3.    │\n",
       "│ game     ┆ hU            ┆      ┆       ┆   ┆               ┆           ┆        ┆ Nc3 a6 …      │\n",
       "│ Rated    ┆ https://liche ┆ null ┆ null  ┆ … ┆ Time forfeit  ┆ HrsXyTcY  ┆ Black  ┆ 1. e4 e5 2.   │\n",
       "│ Standard ┆ ss.org/HrsXyT ┆      ┆       ┆   ┆               ┆           ┆        ┆ d3 c5 3. c4   │\n",
       "│ game     ┆ cY            ┆      ┆       ┆   ┆               ┆           ┆        ┆ Be7 4.…       │\n",
       "│ Rated    ┆ https://liche ┆ null ┆ null  ┆ … ┆ Normal        ┆ T1oKpChq  ┆ Black  ┆ 1. d4 Nf6 2.  │\n",
       "│ Standard ┆ ss.org/T1oKpC ┆      ┆       ┆   ┆               ┆           ┆        ┆ Nc3 e6 3. Bf4 │\n",
       "│ game     ┆ hq            ┆      ┆       ┆   ┆               ┆           ┆        ┆ d5 …          │\n",
       "│ Rated    ┆ https://liche ┆ null ┆ null  ┆ … ┆ Normal        ┆ nnWTaJNC  ┆ Black  ┆ 1. e4 e5 2.   │\n",
       "│ Standard ┆ ss.org/nnWTaJ ┆      ┆       ┆   ┆               ┆           ┆        ┆ Nf3 f5 3.     │\n",
       "│ game     ┆ NC            ┆      ┆       ┆   ┆               ┆           ┆        ┆ exf5 Nf6…     │\n",
       "│ Rated    ┆ https://liche ┆ null ┆ null  ┆ … ┆ Normal        ┆ zScnfQPZ  ┆ White  ┆ 1. e4 e5 2.   │\n",
       "│ Standard ┆ ss.org/zScnfQ ┆      ┆       ┆   ┆               ┆           ┆        ┆ Nf3 Qf6 3.    │\n",
       "│ game     ┆ PZ            ┆      ┆       ┆   ┆               ┆           ┆        ┆ Nc3 Be7…      │\n",
       "└──────────┴───────────────┴──────┴───────┴───┴───────────────┴───────────┴────────┴───────────────┘"
      ]
     },
     "execution_count": 5,
     "metadata": {},
     "output_type": "execute_result"
    }
   ],
   "source": [
    "df = df.filter(pl.col(\"Event\") == \"Rated Standard game\")\n",
    "df.head().collect()"
   ]
  },
  {
   "cell_type": "code",
   "execution_count": 6,
   "id": "26892471",
   "metadata": {},
   "outputs": [],
   "source": [
    "df = df.filter(pl.col(\"White\").is_not_null(), pl.col(\"Black\").is_not_null(), pl.col(\"WhiteElo\").is_not_null(), pl.col(\"BlackElo\").is_not_null(), pl.col(\"WhiteRatingDiff\").is_not_null(), pl.col(\"BlackRatingDiff\").is_not_null(), pl.col(\"ECO\").is_not_null(), pl.col(\"Opening\").is_not_null())"
   ]
  },
  {
   "cell_type": "code",
   "execution_count": 7,
   "id": "d9224f89",
   "metadata": {},
   "outputs": [
    {
     "data": {
      "text/html": [
       "<div><style>\n",
       ".dataframe > thead > tr,\n",
       ".dataframe > tbody > tr {\n",
       "  text-align: right;\n",
       "  white-space: pre-wrap;\n",
       "}\n",
       "</style>\n",
       "<small>shape: (1, 20)</small><table border=\"1\" class=\"dataframe\"><thead><tr><th>Event</th><th>Site</th><th>Date</th><th>Round</th><th>White</th><th>Black</th><th>Result</th><th>UTCDate</th><th>UTCTime</th><th>WhiteElo</th><th>BlackElo</th><th>WhiteRatingDiff</th><th>BlackRatingDiff</th><th>ECO</th><th>Opening</th><th>TimeControl</th><th>Termination</th><th>LichessId</th><th>Winner</th><th>Moves</th></tr><tr><td>u32</td><td>u32</td><td>u32</td><td>u32</td><td>u32</td><td>u32</td><td>u32</td><td>u32</td><td>u32</td><td>u32</td><td>u32</td><td>u32</td><td>u32</td><td>u32</td><td>u32</td><td>u32</td><td>u32</td><td>u32</td><td>u32</td><td>u32</td></tr></thead><tbody><tr><td>0</td><td>0</td><td>464201</td><td>464201</td><td>0</td><td>0</td><td>0</td><td>0</td><td>0</td><td>0</td><td>0</td><td>0</td><td>0</td><td>0</td><td>0</td><td>0</td><td>0</td><td>0</td><td>0</td><td>0</td></tr></tbody></table></div>"
      ],
      "text/plain": [
       "shape: (1, 20)\n",
       "┌───────┬──────┬────────┬────────┬───┬─────────────┬───────────┬────────┬───────┐\n",
       "│ Event ┆ Site ┆ Date   ┆ Round  ┆ … ┆ Termination ┆ LichessId ┆ Winner ┆ Moves │\n",
       "│ ---   ┆ ---  ┆ ---    ┆ ---    ┆   ┆ ---         ┆ ---       ┆ ---    ┆ ---   │\n",
       "│ u32   ┆ u32  ┆ u32    ┆ u32    ┆   ┆ u32         ┆ u32       ┆ u32    ┆ u32   │\n",
       "╞═══════╪══════╪════════╪════════╪═══╪═════════════╪═══════════╪════════╪═══════╡\n",
       "│ 0     ┆ 0    ┆ 464201 ┆ 464201 ┆ … ┆ 0           ┆ 0         ┆ 0      ┆ 0     │\n",
       "└───────┴──────┴────────┴────────┴───┴─────────────┴───────────┴────────┴───────┘"
      ]
     },
     "execution_count": 7,
     "metadata": {},
     "output_type": "execute_result"
    }
   ],
   "source": [
    "df.null_count().collect()"
   ]
  },
  {
   "cell_type": "markdown",
   "id": "e37bc8ba",
   "metadata": {},
   "source": [
    "##### Keep games with < 50 elo diff"
   ]
  },
  {
   "cell_type": "code",
   "execution_count": 8,
   "id": "97f3a83b",
   "metadata": {},
   "outputs": [],
   "source": [
    "max_elo_diff = 50\n",
    "df = df.with_columns(\n",
    "    pl.col(\"WhiteRatingDiff\").cast(pl.Int32, strict=False),\n",
    "    pl.col(\"BlackRatingDiff\").cast(pl.Int32, strict=False)\n",
    ").filter((pl.col(\"WhiteRatingDiff\").abs() <= max_elo_diff))"
   ]
  },
  {
   "cell_type": "markdown",
   "id": "48a4f21f",
   "metadata": {},
   "source": [
    "##### Collect average game elo"
   ]
  },
  {
   "cell_type": "code",
   "execution_count": 9,
   "id": "e20b5c4f",
   "metadata": {},
   "outputs": [
    {
     "data": {
      "text/html": [
       "<div><style>\n",
       ".dataframe > thead > tr,\n",
       ".dataframe > tbody > tr {\n",
       "  text-align: right;\n",
       "  white-space: pre-wrap;\n",
       "}\n",
       "</style>\n",
       "<small>shape: (443_074, 21)</small><table border=\"1\" class=\"dataframe\"><thead><tr><th>Event</th><th>Site</th><th>Date</th><th>Round</th><th>White</th><th>Black</th><th>Result</th><th>UTCDate</th><th>UTCTime</th><th>WhiteElo</th><th>BlackElo</th><th>WhiteRatingDiff</th><th>BlackRatingDiff</th><th>ECO</th><th>Opening</th><th>TimeControl</th><th>Termination</th><th>LichessId</th><th>Winner</th><th>Moves</th><th>avg_elo</th></tr><tr><td>str</td><td>str</td><td>str</td><td>str</td><td>str</td><td>str</td><td>str</td><td>str</td><td>str</td><td>i64</td><td>i64</td><td>i32</td><td>i32</td><td>str</td><td>str</td><td>str</td><td>str</td><td>str</td><td>str</td><td>str</td><td>f64</td></tr></thead><tbody><tr><td>&quot;Rated Standard game&quot;</td><td>&quot;https://lichess.org/5bMFWthU&quot;</td><td>null</td><td>null</td><td>&quot;breves&quot;</td><td>&quot;riiton&quot;</td><td>&quot;1-0&quot;</td><td>&quot;2015.02.28&quot;</td><td>&quot;23:00:05&quot;</td><td>1227</td><td>1190</td><td>11</td><td>-17</td><td>&quot;C26&quot;</td><td>&quot;Vienna Game: Stanley Variation&quot;</td><td>&quot;480+8&quot;</td><td>&quot;Normal&quot;</td><td>&quot;5bMFWthU&quot;</td><td>&quot;White&quot;</td><td>&quot;1. e4 e5 2. Bc4 Nf6 3. Nc3 a6 …</td><td>1208.5</td></tr><tr><td>&quot;Rated Standard game&quot;</td><td>&quot;https://lichess.org/HrsXyTcY&quot;</td><td>null</td><td>null</td><td>&quot;mironi&quot;</td><td>&quot;grimshanky&quot;</td><td>&quot;0-1&quot;</td><td>&quot;2015.02.28&quot;</td><td>&quot;23:00:07&quot;</td><td>1599</td><td>1582</td><td>-11</td><td>12</td><td>&quot;C20&quot;</td><td>&quot;King&#x27;s Pawn Game: Leonardis Va…</td><td>&quot;180+10&quot;</td><td>&quot;Time forfeit&quot;</td><td>&quot;HrsXyTcY&quot;</td><td>&quot;Black&quot;</td><td>&quot;1. e4 e5 2. d3 c5 3. c4 Be7 4.…</td><td>1590.5</td></tr><tr><td>&quot;Rated Standard game&quot;</td><td>&quot;https://lichess.org/T1oKpChq&quot;</td><td>null</td><td>null</td><td>&quot;foss2015&quot;</td><td>&quot;fortune-kook&quot;</td><td>&quot;0-1&quot;</td><td>&quot;2015.02.28&quot;</td><td>&quot;23:00:23&quot;</td><td>1519</td><td>1479</td><td>-13</td><td>12</td><td>&quot;A45&quot;</td><td>&quot;Indian Game&quot;</td><td>&quot;360+4&quot;</td><td>&quot;Normal&quot;</td><td>&quot;T1oKpChq&quot;</td><td>&quot;Black&quot;</td><td>&quot;1. d4 Nf6 2. Nc3 e6 3. Bf4 d5 …</td><td>1499.0</td></tr><tr><td>&quot;Rated Standard game&quot;</td><td>&quot;https://lichess.org/nnWTaJNC&quot;</td><td>null</td><td>null</td><td>&quot;LittleCartier&quot;</td><td>&quot;vilassarxavi&quot;</td><td>&quot;0-1&quot;</td><td>&quot;2015.02.28&quot;</td><td>&quot;23:00:23&quot;</td><td>1315</td><td>1371</td><td>-9</td><td>9</td><td>&quot;C40&quot;</td><td>&quot;Latvian Gambit Accepted&quot;</td><td>&quot;300+8&quot;</td><td>&quot;Normal&quot;</td><td>&quot;nnWTaJNC&quot;</td><td>&quot;Black&quot;</td><td>&quot;1. e4 e5 2. Nf3 f5 3. exf5 Nf6…</td><td>1343.0</td></tr><tr><td>&quot;Rated Standard game&quot;</td><td>&quot;https://lichess.org/zScnfQPZ&quot;</td><td>null</td><td>null</td><td>&quot;CRNI75&quot;</td><td>&quot;zaharof2010&quot;</td><td>&quot;1-0&quot;</td><td>&quot;2015.02.28&quot;</td><td>&quot;23:00:25&quot;</td><td>1589</td><td>1329</td><td>4</td><td>-6</td><td>&quot;C40&quot;</td><td>&quot;King&#x27;s Pawn Game: McConnell De…</td><td>&quot;420+3&quot;</td><td>&quot;Normal&quot;</td><td>&quot;zScnfQPZ&quot;</td><td>&quot;White&quot;</td><td>&quot;1. e4 e5 2. Nf3 Qf6 3. Nc3 Be7…</td><td>1459.0</td></tr><tr><td>&hellip;</td><td>&hellip;</td><td>&hellip;</td><td>&hellip;</td><td>&hellip;</td><td>&hellip;</td><td>&hellip;</td><td>&hellip;</td><td>&hellip;</td><td>&hellip;</td><td>&hellip;</td><td>&hellip;</td><td>&hellip;</td><td>&hellip;</td><td>&hellip;</td><td>&hellip;</td><td>&hellip;</td><td>&hellip;</td><td>&hellip;</td><td>&hellip;</td><td>&hellip;</td></tr><tr><td>&quot;Rated Standard game&quot;</td><td>&quot;https://lichess.org/kE3v5mba&quot;</td><td>null</td><td>null</td><td>&quot;seba71974&quot;</td><td>&quot;nikon162&quot;</td><td>&quot;1-0&quot;</td><td>&quot;2015.03.31&quot;</td><td>&quot;21:45:40&quot;</td><td>1695</td><td>1437</td><td>4</td><td>-8</td><td>&quot;C44&quot;</td><td>&quot;Ponziani Opening: Jaenisch Cou…</td><td>&quot;720+2&quot;</td><td>&quot;Time forfeit&quot;</td><td>&quot;kE3v5mba&quot;</td><td>&quot;White&quot;</td><td>&quot;1. e4 e5 2. Nf3 Nc6 3. c3 Nf6 …</td><td>1566.0</td></tr><tr><td>&quot;Rated Standard game&quot;</td><td>&quot;https://lichess.org/uEIw2Xqz&quot;</td><td>null</td><td>null</td><td>&quot;_GAEL_&quot;</td><td>&quot;TheSMI&quot;</td><td>&quot;1-0&quot;</td><td>&quot;2015.03.31&quot;</td><td>&quot;21:45:43&quot;</td><td>1303</td><td>1288</td><td>10</td><td>-12</td><td>&quot;A45&quot;</td><td>&quot;Indian Game: Maddigan Gambit&quot;</td><td>&quot;300+5&quot;</td><td>&quot;Normal&quot;</td><td>&quot;uEIw2Xqz&quot;</td><td>&quot;White&quot;</td><td>&quot;1. d4 Nf6 2. Nc3 e5 3. dxe5 Ng…</td><td>1295.5</td></tr><tr><td>&quot;Rated Standard game&quot;</td><td>&quot;https://lichess.org/wYT56vSm&quot;</td><td>null</td><td>null</td><td>&quot;bedo77&quot;</td><td>&quot;mazzucco&quot;</td><td>&quot;1-0&quot;</td><td>&quot;2015.03.31&quot;</td><td>&quot;21:45:44&quot;</td><td>1729</td><td>1671</td><td>9</td><td>-10</td><td>&quot;C41&quot;</td><td>&quot;Philidor Defense #2&quot;</td><td>&quot;420+17&quot;</td><td>&quot;Normal&quot;</td><td>&quot;wYT56vSm&quot;</td><td>&quot;White&quot;</td><td>&quot;1. e4 e5 2. Nf3 d6 3. h3 Nc6 4…</td><td>1700.0</td></tr><tr><td>&quot;Rated Standard game&quot;</td><td>&quot;https://lichess.org/8SotQ62l&quot;</td><td>null</td><td>null</td><td>&quot;karenins_smile&quot;</td><td>&quot;xarra&quot;</td><td>&quot;0-1&quot;</td><td>&quot;2015.03.31&quot;</td><td>&quot;21:45:46&quot;</td><td>1389</td><td>1537</td><td>-6</td><td>7</td><td>&quot;B20&quot;</td><td>&quot;Sicilian Defense: Bowdler Atta…</td><td>&quot;420+3&quot;</td><td>&quot;Normal&quot;</td><td>&quot;8SotQ62l&quot;</td><td>&quot;Black&quot;</td><td>&quot;1. e4 c5 2. Bc4 d6 3. Nf3 a6 4…</td><td>1463.0</td></tr><tr><td>&quot;Rated Standard game&quot;</td><td>&quot;https://lichess.org/Pa4KB3D8&quot;</td><td>null</td><td>null</td><td>&quot;ChessCactus&quot;</td><td>&quot;Shewmoo&quot;</td><td>&quot;1-0&quot;</td><td>&quot;2015.03.31&quot;</td><td>&quot;21:45:47&quot;</td><td>1116</td><td>966</td><td>19</td><td>-67</td><td>&quot;C00&quot;</td><td>&quot;French Defense: Normal Variati…</td><td>&quot;900+0&quot;</td><td>&quot;Normal&quot;</td><td>&quot;Pa4KB3D8&quot;</td><td>&quot;White&quot;</td><td>&quot;1. d4 e6 2. e4 Bb4+ 3. Nc3 b6 …</td><td>1041.0</td></tr></tbody></table></div>"
      ],
      "text/plain": [
       "shape: (443_074, 21)\n",
       "┌────────────────┬───────────────┬──────┬───────┬───┬───────────┬────────┬───────────────┬─────────┐\n",
       "│ Event          ┆ Site          ┆ Date ┆ Round ┆ … ┆ LichessId ┆ Winner ┆ Moves         ┆ avg_elo │\n",
       "│ ---            ┆ ---           ┆ ---  ┆ ---   ┆   ┆ ---       ┆ ---    ┆ ---           ┆ ---     │\n",
       "│ str            ┆ str           ┆ str  ┆ str   ┆   ┆ str       ┆ str    ┆ str           ┆ f64     │\n",
       "╞════════════════╪═══════════════╪══════╪═══════╪═══╪═══════════╪════════╪═══════════════╪═════════╡\n",
       "│ Rated Standard ┆ https://liche ┆ null ┆ null  ┆ … ┆ 5bMFWthU  ┆ White  ┆ 1. e4 e5 2.   ┆ 1208.5  │\n",
       "│ game           ┆ ss.org/5bMFWt ┆      ┆       ┆   ┆           ┆        ┆ Bc4 Nf6 3.    ┆         │\n",
       "│                ┆ hU            ┆      ┆       ┆   ┆           ┆        ┆ Nc3 a6 …      ┆         │\n",
       "│ Rated Standard ┆ https://liche ┆ null ┆ null  ┆ … ┆ HrsXyTcY  ┆ Black  ┆ 1. e4 e5 2.   ┆ 1590.5  │\n",
       "│ game           ┆ ss.org/HrsXyT ┆      ┆       ┆   ┆           ┆        ┆ d3 c5 3. c4   ┆         │\n",
       "│                ┆ cY            ┆      ┆       ┆   ┆           ┆        ┆ Be7 4.…       ┆         │\n",
       "│ Rated Standard ┆ https://liche ┆ null ┆ null  ┆ … ┆ T1oKpChq  ┆ Black  ┆ 1. d4 Nf6 2.  ┆ 1499.0  │\n",
       "│ game           ┆ ss.org/T1oKpC ┆      ┆       ┆   ┆           ┆        ┆ Nc3 e6 3. Bf4 ┆         │\n",
       "│                ┆ hq            ┆      ┆       ┆   ┆           ┆        ┆ d5 …          ┆         │\n",
       "│ Rated Standard ┆ https://liche ┆ null ┆ null  ┆ … ┆ nnWTaJNC  ┆ Black  ┆ 1. e4 e5 2.   ┆ 1343.0  │\n",
       "│ game           ┆ ss.org/nnWTaJ ┆      ┆       ┆   ┆           ┆        ┆ Nf3 f5 3.     ┆         │\n",
       "│                ┆ NC            ┆      ┆       ┆   ┆           ┆        ┆ exf5 Nf6…     ┆         │\n",
       "│ Rated Standard ┆ https://liche ┆ null ┆ null  ┆ … ┆ zScnfQPZ  ┆ White  ┆ 1. e4 e5 2.   ┆ 1459.0  │\n",
       "│ game           ┆ ss.org/zScnfQ ┆      ┆       ┆   ┆           ┆        ┆ Nf3 Qf6 3.    ┆         │\n",
       "│                ┆ PZ            ┆      ┆       ┆   ┆           ┆        ┆ Nc3 Be7…      ┆         │\n",
       "│ …              ┆ …             ┆ …    ┆ …     ┆ … ┆ …         ┆ …      ┆ …             ┆ …       │\n",
       "│ Rated Standard ┆ https://liche ┆ null ┆ null  ┆ … ┆ kE3v5mba  ┆ White  ┆ 1. e4 e5 2.   ┆ 1566.0  │\n",
       "│ game           ┆ ss.org/kE3v5m ┆      ┆       ┆   ┆           ┆        ┆ Nf3 Nc6 3. c3 ┆         │\n",
       "│                ┆ ba            ┆      ┆       ┆   ┆           ┆        ┆ Nf6 …         ┆         │\n",
       "│ Rated Standard ┆ https://liche ┆ null ┆ null  ┆ … ┆ uEIw2Xqz  ┆ White  ┆ 1. d4 Nf6 2.  ┆ 1295.5  │\n",
       "│ game           ┆ ss.org/uEIw2X ┆      ┆       ┆   ┆           ┆        ┆ Nc3 e5 3.     ┆         │\n",
       "│                ┆ qz            ┆      ┆       ┆   ┆           ┆        ┆ dxe5 Ng…      ┆         │\n",
       "│ Rated Standard ┆ https://liche ┆ null ┆ null  ┆ … ┆ wYT56vSm  ┆ White  ┆ 1. e4 e5 2.   ┆ 1700.0  │\n",
       "│ game           ┆ ss.org/wYT56v ┆      ┆       ┆   ┆           ┆        ┆ Nf3 d6 3. h3  ┆         │\n",
       "│                ┆ Sm            ┆      ┆       ┆   ┆           ┆        ┆ Nc6 4…        ┆         │\n",
       "│ Rated Standard ┆ https://liche ┆ null ┆ null  ┆ … ┆ 8SotQ62l  ┆ Black  ┆ 1. e4 c5 2.   ┆ 1463.0  │\n",
       "│ game           ┆ ss.org/8SotQ6 ┆      ┆       ┆   ┆           ┆        ┆ Bc4 d6 3. Nf3 ┆         │\n",
       "│                ┆ 2l            ┆      ┆       ┆   ┆           ┆        ┆ a6 4…         ┆         │\n",
       "│ Rated Standard ┆ https://liche ┆ null ┆ null  ┆ … ┆ Pa4KB3D8  ┆ White  ┆ 1. d4 e6 2.   ┆ 1041.0  │\n",
       "│ game           ┆ ss.org/Pa4KB3 ┆      ┆       ┆   ┆           ┆        ┆ e4 Bb4+ 3.    ┆         │\n",
       "│                ┆ D8            ┆      ┆       ┆   ┆           ┆        ┆ Nc3 b6 …      ┆         │\n",
       "└────────────────┴───────────────┴──────┴───────┴───┴───────────┴────────┴───────────────┴─────────┘"
      ]
     },
     "execution_count": 9,
     "metadata": {},
     "output_type": "execute_result"
    }
   ],
   "source": [
    "df = df.with_columns(\n",
    "    avg_elo = (pl.col(\"WhiteElo\") + pl.col(\"BlackElo\")) / 2\n",
    ")\n",
    "df.collect()"
   ]
  },
  {
   "cell_type": "markdown",
   "id": "9a716a92",
   "metadata": {},
   "source": [
    "##### Add column with elo range"
   ]
  },
  {
   "cell_type": "code",
   "execution_count": 10,
   "id": "adcdbc5e",
   "metadata": {},
   "outputs": [
    {
     "data": {
      "text/html": [
       "<div><style>\n",
       ".dataframe > thead > tr,\n",
       ".dataframe > tbody > tr {\n",
       "  text-align: right;\n",
       "  white-space: pre-wrap;\n",
       "}\n",
       "</style>\n",
       "<small>shape: (443_074, 22)</small><table border=\"1\" class=\"dataframe\"><thead><tr><th>Event</th><th>Site</th><th>Date</th><th>Round</th><th>White</th><th>Black</th><th>Result</th><th>UTCDate</th><th>UTCTime</th><th>WhiteElo</th><th>BlackElo</th><th>WhiteRatingDiff</th><th>BlackRatingDiff</th><th>ECO</th><th>Opening</th><th>TimeControl</th><th>Termination</th><th>LichessId</th><th>Winner</th><th>Moves</th><th>avg_elo</th><th>elo_cat</th></tr><tr><td>str</td><td>str</td><td>str</td><td>str</td><td>str</td><td>str</td><td>str</td><td>str</td><td>str</td><td>i64</td><td>i64</td><td>i32</td><td>i32</td><td>str</td><td>str</td><td>str</td><td>str</td><td>str</td><td>str</td><td>str</td><td>f64</td><td>cat</td></tr></thead><tbody><tr><td>&quot;Rated Standard game&quot;</td><td>&quot;https://lichess.org/5bMFWthU&quot;</td><td>null</td><td>null</td><td>&quot;breves&quot;</td><td>&quot;riiton&quot;</td><td>&quot;1-0&quot;</td><td>&quot;2015.02.28&quot;</td><td>&quot;23:00:05&quot;</td><td>1227</td><td>1190</td><td>11</td><td>-17</td><td>&quot;C26&quot;</td><td>&quot;Vienna Game: Stanley Variation&quot;</td><td>&quot;480+8&quot;</td><td>&quot;Normal&quot;</td><td>&quot;5bMFWthU&quot;</td><td>&quot;White&quot;</td><td>&quot;1. e4 e5 2. Bc4 Nf6 3. Nc3 a6 …</td><td>1208.5</td><td>&quot;1200-1399&quot;</td></tr><tr><td>&quot;Rated Standard game&quot;</td><td>&quot;https://lichess.org/HrsXyTcY&quot;</td><td>null</td><td>null</td><td>&quot;mironi&quot;</td><td>&quot;grimshanky&quot;</td><td>&quot;0-1&quot;</td><td>&quot;2015.02.28&quot;</td><td>&quot;23:00:07&quot;</td><td>1599</td><td>1582</td><td>-11</td><td>12</td><td>&quot;C20&quot;</td><td>&quot;King&#x27;s Pawn Game: Leonardis Va…</td><td>&quot;180+10&quot;</td><td>&quot;Time forfeit&quot;</td><td>&quot;HrsXyTcY&quot;</td><td>&quot;Black&quot;</td><td>&quot;1. e4 e5 2. d3 c5 3. c4 Be7 4.…</td><td>1590.5</td><td>&quot;1400-1599&quot;</td></tr><tr><td>&quot;Rated Standard game&quot;</td><td>&quot;https://lichess.org/T1oKpChq&quot;</td><td>null</td><td>null</td><td>&quot;foss2015&quot;</td><td>&quot;fortune-kook&quot;</td><td>&quot;0-1&quot;</td><td>&quot;2015.02.28&quot;</td><td>&quot;23:00:23&quot;</td><td>1519</td><td>1479</td><td>-13</td><td>12</td><td>&quot;A45&quot;</td><td>&quot;Indian Game&quot;</td><td>&quot;360+4&quot;</td><td>&quot;Normal&quot;</td><td>&quot;T1oKpChq&quot;</td><td>&quot;Black&quot;</td><td>&quot;1. d4 Nf6 2. Nc3 e6 3. Bf4 d5 …</td><td>1499.0</td><td>&quot;1400-1599&quot;</td></tr><tr><td>&quot;Rated Standard game&quot;</td><td>&quot;https://lichess.org/nnWTaJNC&quot;</td><td>null</td><td>null</td><td>&quot;LittleCartier&quot;</td><td>&quot;vilassarxavi&quot;</td><td>&quot;0-1&quot;</td><td>&quot;2015.02.28&quot;</td><td>&quot;23:00:23&quot;</td><td>1315</td><td>1371</td><td>-9</td><td>9</td><td>&quot;C40&quot;</td><td>&quot;Latvian Gambit Accepted&quot;</td><td>&quot;300+8&quot;</td><td>&quot;Normal&quot;</td><td>&quot;nnWTaJNC&quot;</td><td>&quot;Black&quot;</td><td>&quot;1. e4 e5 2. Nf3 f5 3. exf5 Nf6…</td><td>1343.0</td><td>&quot;1200-1399&quot;</td></tr><tr><td>&quot;Rated Standard game&quot;</td><td>&quot;https://lichess.org/zScnfQPZ&quot;</td><td>null</td><td>null</td><td>&quot;CRNI75&quot;</td><td>&quot;zaharof2010&quot;</td><td>&quot;1-0&quot;</td><td>&quot;2015.02.28&quot;</td><td>&quot;23:00:25&quot;</td><td>1589</td><td>1329</td><td>4</td><td>-6</td><td>&quot;C40&quot;</td><td>&quot;King&#x27;s Pawn Game: McConnell De…</td><td>&quot;420+3&quot;</td><td>&quot;Normal&quot;</td><td>&quot;zScnfQPZ&quot;</td><td>&quot;White&quot;</td><td>&quot;1. e4 e5 2. Nf3 Qf6 3. Nc3 Be7…</td><td>1459.0</td><td>&quot;1400-1599&quot;</td></tr><tr><td>&hellip;</td><td>&hellip;</td><td>&hellip;</td><td>&hellip;</td><td>&hellip;</td><td>&hellip;</td><td>&hellip;</td><td>&hellip;</td><td>&hellip;</td><td>&hellip;</td><td>&hellip;</td><td>&hellip;</td><td>&hellip;</td><td>&hellip;</td><td>&hellip;</td><td>&hellip;</td><td>&hellip;</td><td>&hellip;</td><td>&hellip;</td><td>&hellip;</td><td>&hellip;</td><td>&hellip;</td></tr><tr><td>&quot;Rated Standard game&quot;</td><td>&quot;https://lichess.org/kE3v5mba&quot;</td><td>null</td><td>null</td><td>&quot;seba71974&quot;</td><td>&quot;nikon162&quot;</td><td>&quot;1-0&quot;</td><td>&quot;2015.03.31&quot;</td><td>&quot;21:45:40&quot;</td><td>1695</td><td>1437</td><td>4</td><td>-8</td><td>&quot;C44&quot;</td><td>&quot;Ponziani Opening: Jaenisch Cou…</td><td>&quot;720+2&quot;</td><td>&quot;Time forfeit&quot;</td><td>&quot;kE3v5mba&quot;</td><td>&quot;White&quot;</td><td>&quot;1. e4 e5 2. Nf3 Nc6 3. c3 Nf6 …</td><td>1566.0</td><td>&quot;1400-1599&quot;</td></tr><tr><td>&quot;Rated Standard game&quot;</td><td>&quot;https://lichess.org/uEIw2Xqz&quot;</td><td>null</td><td>null</td><td>&quot;_GAEL_&quot;</td><td>&quot;TheSMI&quot;</td><td>&quot;1-0&quot;</td><td>&quot;2015.03.31&quot;</td><td>&quot;21:45:43&quot;</td><td>1303</td><td>1288</td><td>10</td><td>-12</td><td>&quot;A45&quot;</td><td>&quot;Indian Game: Maddigan Gambit&quot;</td><td>&quot;300+5&quot;</td><td>&quot;Normal&quot;</td><td>&quot;uEIw2Xqz&quot;</td><td>&quot;White&quot;</td><td>&quot;1. d4 Nf6 2. Nc3 e5 3. dxe5 Ng…</td><td>1295.5</td><td>&quot;1200-1399&quot;</td></tr><tr><td>&quot;Rated Standard game&quot;</td><td>&quot;https://lichess.org/wYT56vSm&quot;</td><td>null</td><td>null</td><td>&quot;bedo77&quot;</td><td>&quot;mazzucco&quot;</td><td>&quot;1-0&quot;</td><td>&quot;2015.03.31&quot;</td><td>&quot;21:45:44&quot;</td><td>1729</td><td>1671</td><td>9</td><td>-10</td><td>&quot;C41&quot;</td><td>&quot;Philidor Defense #2&quot;</td><td>&quot;420+17&quot;</td><td>&quot;Normal&quot;</td><td>&quot;wYT56vSm&quot;</td><td>&quot;White&quot;</td><td>&quot;1. e4 e5 2. Nf3 d6 3. h3 Nc6 4…</td><td>1700.0</td><td>&quot;1600-1799&quot;</td></tr><tr><td>&quot;Rated Standard game&quot;</td><td>&quot;https://lichess.org/8SotQ62l&quot;</td><td>null</td><td>null</td><td>&quot;karenins_smile&quot;</td><td>&quot;xarra&quot;</td><td>&quot;0-1&quot;</td><td>&quot;2015.03.31&quot;</td><td>&quot;21:45:46&quot;</td><td>1389</td><td>1537</td><td>-6</td><td>7</td><td>&quot;B20&quot;</td><td>&quot;Sicilian Defense: Bowdler Atta…</td><td>&quot;420+3&quot;</td><td>&quot;Normal&quot;</td><td>&quot;8SotQ62l&quot;</td><td>&quot;Black&quot;</td><td>&quot;1. e4 c5 2. Bc4 d6 3. Nf3 a6 4…</td><td>1463.0</td><td>&quot;1400-1599&quot;</td></tr><tr><td>&quot;Rated Standard game&quot;</td><td>&quot;https://lichess.org/Pa4KB3D8&quot;</td><td>null</td><td>null</td><td>&quot;ChessCactus&quot;</td><td>&quot;Shewmoo&quot;</td><td>&quot;1-0&quot;</td><td>&quot;2015.03.31&quot;</td><td>&quot;21:45:47&quot;</td><td>1116</td><td>966</td><td>19</td><td>-67</td><td>&quot;C00&quot;</td><td>&quot;French Defense: Normal Variati…</td><td>&quot;900+0&quot;</td><td>&quot;Normal&quot;</td><td>&quot;Pa4KB3D8&quot;</td><td>&quot;White&quot;</td><td>&quot;1. d4 e6 2. e4 Bb4+ 3. Nc3 b6 …</td><td>1041.0</td><td>&quot;1000-1199&quot;</td></tr></tbody></table></div>"
      ],
      "text/plain": [
       "shape: (443_074, 22)\n",
       "┌────────────────┬───────────────┬──────┬───────┬───┬────────┬───────────────┬─────────┬───────────┐\n",
       "│ Event          ┆ Site          ┆ Date ┆ Round ┆ … ┆ Winner ┆ Moves         ┆ avg_elo ┆ elo_cat   │\n",
       "│ ---            ┆ ---           ┆ ---  ┆ ---   ┆   ┆ ---    ┆ ---           ┆ ---     ┆ ---       │\n",
       "│ str            ┆ str           ┆ str  ┆ str   ┆   ┆ str    ┆ str           ┆ f64     ┆ cat       │\n",
       "╞════════════════╪═══════════════╪══════╪═══════╪═══╪════════╪═══════════════╪═════════╪═══════════╡\n",
       "│ Rated Standard ┆ https://liche ┆ null ┆ null  ┆ … ┆ White  ┆ 1. e4 e5 2.   ┆ 1208.5  ┆ 1200-1399 │\n",
       "│ game           ┆ ss.org/5bMFWt ┆      ┆       ┆   ┆        ┆ Bc4 Nf6 3.    ┆         ┆           │\n",
       "│                ┆ hU            ┆      ┆       ┆   ┆        ┆ Nc3 a6 …      ┆         ┆           │\n",
       "│ Rated Standard ┆ https://liche ┆ null ┆ null  ┆ … ┆ Black  ┆ 1. e4 e5 2.   ┆ 1590.5  ┆ 1400-1599 │\n",
       "│ game           ┆ ss.org/HrsXyT ┆      ┆       ┆   ┆        ┆ d3 c5 3. c4   ┆         ┆           │\n",
       "│                ┆ cY            ┆      ┆       ┆   ┆        ┆ Be7 4.…       ┆         ┆           │\n",
       "│ Rated Standard ┆ https://liche ┆ null ┆ null  ┆ … ┆ Black  ┆ 1. d4 Nf6 2.  ┆ 1499.0  ┆ 1400-1599 │\n",
       "│ game           ┆ ss.org/T1oKpC ┆      ┆       ┆   ┆        ┆ Nc3 e6 3. Bf4 ┆         ┆           │\n",
       "│                ┆ hq            ┆      ┆       ┆   ┆        ┆ d5 …          ┆         ┆           │\n",
       "│ Rated Standard ┆ https://liche ┆ null ┆ null  ┆ … ┆ Black  ┆ 1. e4 e5 2.   ┆ 1343.0  ┆ 1200-1399 │\n",
       "│ game           ┆ ss.org/nnWTaJ ┆      ┆       ┆   ┆        ┆ Nf3 f5 3.     ┆         ┆           │\n",
       "│                ┆ NC            ┆      ┆       ┆   ┆        ┆ exf5 Nf6…     ┆         ┆           │\n",
       "│ Rated Standard ┆ https://liche ┆ null ┆ null  ┆ … ┆ White  ┆ 1. e4 e5 2.   ┆ 1459.0  ┆ 1400-1599 │\n",
       "│ game           ┆ ss.org/zScnfQ ┆      ┆       ┆   ┆        ┆ Nf3 Qf6 3.    ┆         ┆           │\n",
       "│                ┆ PZ            ┆      ┆       ┆   ┆        ┆ Nc3 Be7…      ┆         ┆           │\n",
       "│ …              ┆ …             ┆ …    ┆ …     ┆ … ┆ …      ┆ …             ┆ …       ┆ …         │\n",
       "│ Rated Standard ┆ https://liche ┆ null ┆ null  ┆ … ┆ White  ┆ 1. e4 e5 2.   ┆ 1566.0  ┆ 1400-1599 │\n",
       "│ game           ┆ ss.org/kE3v5m ┆      ┆       ┆   ┆        ┆ Nf3 Nc6 3. c3 ┆         ┆           │\n",
       "│                ┆ ba            ┆      ┆       ┆   ┆        ┆ Nf6 …         ┆         ┆           │\n",
       "│ Rated Standard ┆ https://liche ┆ null ┆ null  ┆ … ┆ White  ┆ 1. d4 Nf6 2.  ┆ 1295.5  ┆ 1200-1399 │\n",
       "│ game           ┆ ss.org/uEIw2X ┆      ┆       ┆   ┆        ┆ Nc3 e5 3.     ┆         ┆           │\n",
       "│                ┆ qz            ┆      ┆       ┆   ┆        ┆ dxe5 Ng…      ┆         ┆           │\n",
       "│ Rated Standard ┆ https://liche ┆ null ┆ null  ┆ … ┆ White  ┆ 1. e4 e5 2.   ┆ 1700.0  ┆ 1600-1799 │\n",
       "│ game           ┆ ss.org/wYT56v ┆      ┆       ┆   ┆        ┆ Nf3 d6 3. h3  ┆         ┆           │\n",
       "│                ┆ Sm            ┆      ┆       ┆   ┆        ┆ Nc6 4…        ┆         ┆           │\n",
       "│ Rated Standard ┆ https://liche ┆ null ┆ null  ┆ … ┆ Black  ┆ 1. e4 c5 2.   ┆ 1463.0  ┆ 1400-1599 │\n",
       "│ game           ┆ ss.org/8SotQ6 ┆      ┆       ┆   ┆        ┆ Bc4 d6 3. Nf3 ┆         ┆           │\n",
       "│                ┆ 2l            ┆      ┆       ┆   ┆        ┆ a6 4…         ┆         ┆           │\n",
       "│ Rated Standard ┆ https://liche ┆ null ┆ null  ┆ … ┆ White  ┆ 1. d4 e6 2.   ┆ 1041.0  ┆ 1000-1199 │\n",
       "│ game           ┆ ss.org/Pa4KB3 ┆      ┆       ┆   ┆        ┆ e4 Bb4+ 3.    ┆         ┆           │\n",
       "│                ┆ D8            ┆      ┆       ┆   ┆        ┆ Nc3 b6 …      ┆         ┆           │\n",
       "└────────────────┴───────────────┴──────┴───────┴───┴────────┴───────────────┴─────────┴───────────┘"
      ]
     },
     "execution_count": 10,
     "metadata": {},
     "output_type": "execute_result"
    }
   ],
   "source": [
    "bins = [1000, 1200, 1400, 1600, 1800, 2000]\n",
    "labels = [\"U1000\",\"1000-1199\",\"1200-1399\",\"1400-1599\",\"1600-1799\",\"1800-1999\",\"2000+\"]\n",
    "\n",
    "df = df.with_columns(\n",
    "    elo_cat = pl.col(\"avg_elo\").cut(bins, labels=labels)\n",
    ")\n",
    "df.collect()"
   ]
  },
  {
   "cell_type": "code",
   "execution_count": 11,
   "id": "8ed1ba9e",
   "metadata": {},
   "outputs": [
    {
     "data": {
      "text/html": [
       "<div><style>\n",
       ".dataframe > thead > tr,\n",
       ".dataframe > tbody > tr {\n",
       "  text-align: right;\n",
       "  white-space: pre-wrap;\n",
       "}\n",
       "</style>\n",
       "<small>shape: (7, 2)</small><table border=\"1\" class=\"dataframe\"><thead><tr><th>elo_cat</th><th>num_games</th></tr><tr><td>cat</td><td>u32</td></tr></thead><tbody><tr><td>&quot;1600-1799&quot;</td><td>121059</td></tr><tr><td>&quot;1800-1999&quot;</td><td>35208</td></tr><tr><td>&quot;2000+&quot;</td><td>5581</td></tr><tr><td>&quot;U1000&quot;</td><td>582</td></tr><tr><td>&quot;1200-1399&quot;</td><td>96100</td></tr><tr><td>&quot;1000-1199&quot;</td><td>20522</td></tr><tr><td>&quot;1400-1599&quot;</td><td>164022</td></tr></tbody></table></div>"
      ],
      "text/plain": [
       "shape: (7, 2)\n",
       "┌───────────┬───────────┐\n",
       "│ elo_cat   ┆ num_games │\n",
       "│ ---       ┆ ---       │\n",
       "│ cat       ┆ u32       │\n",
       "╞═══════════╪═══════════╡\n",
       "│ 1600-1799 ┆ 121059    │\n",
       "│ 1800-1999 ┆ 35208     │\n",
       "│ 2000+     ┆ 5581      │\n",
       "│ U1000     ┆ 582       │\n",
       "│ 1200-1399 ┆ 96100     │\n",
       "│ 1000-1199 ┆ 20522     │\n",
       "│ 1400-1599 ┆ 164022    │\n",
       "└───────────┴───────────┘"
      ]
     },
     "execution_count": 11,
     "metadata": {},
     "output_type": "execute_result"
    }
   ],
   "source": [
    "df.group_by(\"elo_cat\").agg(\n",
    "    pl.len().alias(\"num_games\")).collect()"
   ]
  },
  {
   "cell_type": "markdown",
   "id": "ca00e607",
   "metadata": {},
   "source": [
    "##### Select only useful columns"
   ]
  },
  {
   "cell_type": "code",
   "execution_count": 12,
   "id": "72759bc4",
   "metadata": {},
   "outputs": [
    {
     "data": {
      "text/html": [
       "<div><style>\n",
       ".dataframe > thead > tr,\n",
       ".dataframe > tbody > tr {\n",
       "  text-align: right;\n",
       "  white-space: pre-wrap;\n",
       "}\n",
       "</style>\n",
       "<small>shape: (443_074, 13)</small><table border=\"1\" class=\"dataframe\"><thead><tr><th>Event</th><th>White</th><th>Black</th><th>Result</th><th>WhiteElo</th><th>BlackElo</th><th>WhiteRatingDiff</th><th>BlackRatingDiff</th><th>ECO</th><th>Winner</th><th>Moves</th><th>avg_elo</th><th>elo_cat</th></tr><tr><td>str</td><td>str</td><td>str</td><td>str</td><td>i64</td><td>i64</td><td>i32</td><td>i32</td><td>str</td><td>str</td><td>str</td><td>f64</td><td>cat</td></tr></thead><tbody><tr><td>&quot;Rated Standard game&quot;</td><td>&quot;breves&quot;</td><td>&quot;riiton&quot;</td><td>&quot;1-0&quot;</td><td>1227</td><td>1190</td><td>11</td><td>-17</td><td>&quot;C26&quot;</td><td>&quot;White&quot;</td><td>&quot;1. e4 e5 2. Bc4 Nf6 3. Nc3 a6 …</td><td>1208.5</td><td>&quot;1200-1399&quot;</td></tr><tr><td>&quot;Rated Standard game&quot;</td><td>&quot;mironi&quot;</td><td>&quot;grimshanky&quot;</td><td>&quot;0-1&quot;</td><td>1599</td><td>1582</td><td>-11</td><td>12</td><td>&quot;C20&quot;</td><td>&quot;Black&quot;</td><td>&quot;1. e4 e5 2. d3 c5 3. c4 Be7 4.…</td><td>1590.5</td><td>&quot;1400-1599&quot;</td></tr><tr><td>&quot;Rated Standard game&quot;</td><td>&quot;foss2015&quot;</td><td>&quot;fortune-kook&quot;</td><td>&quot;0-1&quot;</td><td>1519</td><td>1479</td><td>-13</td><td>12</td><td>&quot;A45&quot;</td><td>&quot;Black&quot;</td><td>&quot;1. d4 Nf6 2. Nc3 e6 3. Bf4 d5 …</td><td>1499.0</td><td>&quot;1400-1599&quot;</td></tr><tr><td>&quot;Rated Standard game&quot;</td><td>&quot;LittleCartier&quot;</td><td>&quot;vilassarxavi&quot;</td><td>&quot;0-1&quot;</td><td>1315</td><td>1371</td><td>-9</td><td>9</td><td>&quot;C40&quot;</td><td>&quot;Black&quot;</td><td>&quot;1. e4 e5 2. Nf3 f5 3. exf5 Nf6…</td><td>1343.0</td><td>&quot;1200-1399&quot;</td></tr><tr><td>&quot;Rated Standard game&quot;</td><td>&quot;CRNI75&quot;</td><td>&quot;zaharof2010&quot;</td><td>&quot;1-0&quot;</td><td>1589</td><td>1329</td><td>4</td><td>-6</td><td>&quot;C40&quot;</td><td>&quot;White&quot;</td><td>&quot;1. e4 e5 2. Nf3 Qf6 3. Nc3 Be7…</td><td>1459.0</td><td>&quot;1400-1599&quot;</td></tr><tr><td>&hellip;</td><td>&hellip;</td><td>&hellip;</td><td>&hellip;</td><td>&hellip;</td><td>&hellip;</td><td>&hellip;</td><td>&hellip;</td><td>&hellip;</td><td>&hellip;</td><td>&hellip;</td><td>&hellip;</td><td>&hellip;</td></tr><tr><td>&quot;Rated Standard game&quot;</td><td>&quot;seba71974&quot;</td><td>&quot;nikon162&quot;</td><td>&quot;1-0&quot;</td><td>1695</td><td>1437</td><td>4</td><td>-8</td><td>&quot;C44&quot;</td><td>&quot;White&quot;</td><td>&quot;1. e4 e5 2. Nf3 Nc6 3. c3 Nf6 …</td><td>1566.0</td><td>&quot;1400-1599&quot;</td></tr><tr><td>&quot;Rated Standard game&quot;</td><td>&quot;_GAEL_&quot;</td><td>&quot;TheSMI&quot;</td><td>&quot;1-0&quot;</td><td>1303</td><td>1288</td><td>10</td><td>-12</td><td>&quot;A45&quot;</td><td>&quot;White&quot;</td><td>&quot;1. d4 Nf6 2. Nc3 e5 3. dxe5 Ng…</td><td>1295.5</td><td>&quot;1200-1399&quot;</td></tr><tr><td>&quot;Rated Standard game&quot;</td><td>&quot;bedo77&quot;</td><td>&quot;mazzucco&quot;</td><td>&quot;1-0&quot;</td><td>1729</td><td>1671</td><td>9</td><td>-10</td><td>&quot;C41&quot;</td><td>&quot;White&quot;</td><td>&quot;1. e4 e5 2. Nf3 d6 3. h3 Nc6 4…</td><td>1700.0</td><td>&quot;1600-1799&quot;</td></tr><tr><td>&quot;Rated Standard game&quot;</td><td>&quot;karenins_smile&quot;</td><td>&quot;xarra&quot;</td><td>&quot;0-1&quot;</td><td>1389</td><td>1537</td><td>-6</td><td>7</td><td>&quot;B20&quot;</td><td>&quot;Black&quot;</td><td>&quot;1. e4 c5 2. Bc4 d6 3. Nf3 a6 4…</td><td>1463.0</td><td>&quot;1400-1599&quot;</td></tr><tr><td>&quot;Rated Standard game&quot;</td><td>&quot;ChessCactus&quot;</td><td>&quot;Shewmoo&quot;</td><td>&quot;1-0&quot;</td><td>1116</td><td>966</td><td>19</td><td>-67</td><td>&quot;C00&quot;</td><td>&quot;White&quot;</td><td>&quot;1. d4 e6 2. e4 Bb4+ 3. Nc3 b6 …</td><td>1041.0</td><td>&quot;1000-1199&quot;</td></tr></tbody></table></div>"
      ],
      "text/plain": [
       "shape: (443_074, 13)\n",
       "┌─────────────┬─────────────┬─────────────┬────────┬───┬────────┬────────────┬─────────┬───────────┐\n",
       "│ Event       ┆ White       ┆ Black       ┆ Result ┆ … ┆ Winner ┆ Moves      ┆ avg_elo ┆ elo_cat   │\n",
       "│ ---         ┆ ---         ┆ ---         ┆ ---    ┆   ┆ ---    ┆ ---        ┆ ---     ┆ ---       │\n",
       "│ str         ┆ str         ┆ str         ┆ str    ┆   ┆ str    ┆ str        ┆ f64     ┆ cat       │\n",
       "╞═════════════╪═════════════╪═════════════╪════════╪═══╪════════╪════════════╪═════════╪═══════════╡\n",
       "│ Rated       ┆ breves      ┆ riiton      ┆ 1-0    ┆ … ┆ White  ┆ 1. e4 e5   ┆ 1208.5  ┆ 1200-1399 │\n",
       "│ Standard    ┆             ┆             ┆        ┆   ┆        ┆ 2. Bc4 Nf6 ┆         ┆           │\n",
       "│ game        ┆             ┆             ┆        ┆   ┆        ┆ 3. Nc3 a6  ┆         ┆           │\n",
       "│             ┆             ┆             ┆        ┆   ┆        ┆ …          ┆         ┆           │\n",
       "│ Rated       ┆ mironi      ┆ grimshanky  ┆ 0-1    ┆ … ┆ Black  ┆ 1. e4 e5   ┆ 1590.5  ┆ 1400-1599 │\n",
       "│ Standard    ┆             ┆             ┆        ┆   ┆        ┆ 2. d3 c5   ┆         ┆           │\n",
       "│ game        ┆             ┆             ┆        ┆   ┆        ┆ 3. c4 Be7  ┆         ┆           │\n",
       "│             ┆             ┆             ┆        ┆   ┆        ┆ 4.…        ┆         ┆           │\n",
       "│ Rated       ┆ foss2015    ┆ fortune-koo ┆ 0-1    ┆ … ┆ Black  ┆ 1. d4 Nf6  ┆ 1499.0  ┆ 1400-1599 │\n",
       "│ Standard    ┆             ┆ k           ┆        ┆   ┆        ┆ 2. Nc3 e6  ┆         ┆           │\n",
       "│ game        ┆             ┆             ┆        ┆   ┆        ┆ 3. Bf4 d5  ┆         ┆           │\n",
       "│             ┆             ┆             ┆        ┆   ┆        ┆ …          ┆         ┆           │\n",
       "│ Rated       ┆ LittleCarti ┆ vilassarxav ┆ 0-1    ┆ … ┆ Black  ┆ 1. e4 e5   ┆ 1343.0  ┆ 1200-1399 │\n",
       "│ Standard    ┆ er          ┆ i           ┆        ┆   ┆        ┆ 2. Nf3 f5  ┆         ┆           │\n",
       "│ game        ┆             ┆             ┆        ┆   ┆        ┆ 3. exf5    ┆         ┆           │\n",
       "│             ┆             ┆             ┆        ┆   ┆        ┆ Nf6…       ┆         ┆           │\n",
       "│ Rated       ┆ CRNI75      ┆ zaharof2010 ┆ 1-0    ┆ … ┆ White  ┆ 1. e4 e5   ┆ 1459.0  ┆ 1400-1599 │\n",
       "│ Standard    ┆             ┆             ┆        ┆   ┆        ┆ 2. Nf3 Qf6 ┆         ┆           │\n",
       "│ game        ┆             ┆             ┆        ┆   ┆        ┆ 3. Nc3     ┆         ┆           │\n",
       "│             ┆             ┆             ┆        ┆   ┆        ┆ Be7…       ┆         ┆           │\n",
       "│ …           ┆ …           ┆ …           ┆ …      ┆ … ┆ …      ┆ …          ┆ …       ┆ …         │\n",
       "│ Rated       ┆ seba71974   ┆ nikon162    ┆ 1-0    ┆ … ┆ White  ┆ 1. e4 e5   ┆ 1566.0  ┆ 1400-1599 │\n",
       "│ Standard    ┆             ┆             ┆        ┆   ┆        ┆ 2. Nf3 Nc6 ┆         ┆           │\n",
       "│ game        ┆             ┆             ┆        ┆   ┆        ┆ 3. c3 Nf6  ┆         ┆           │\n",
       "│             ┆             ┆             ┆        ┆   ┆        ┆ …          ┆         ┆           │\n",
       "│ Rated       ┆ _GAEL_      ┆ TheSMI      ┆ 1-0    ┆ … ┆ White  ┆ 1. d4 Nf6  ┆ 1295.5  ┆ 1200-1399 │\n",
       "│ Standard    ┆             ┆             ┆        ┆   ┆        ┆ 2. Nc3 e5  ┆         ┆           │\n",
       "│ game        ┆             ┆             ┆        ┆   ┆        ┆ 3. dxe5    ┆         ┆           │\n",
       "│             ┆             ┆             ┆        ┆   ┆        ┆ Ng…        ┆         ┆           │\n",
       "│ Rated       ┆ bedo77      ┆ mazzucco    ┆ 1-0    ┆ … ┆ White  ┆ 1. e4 e5   ┆ 1700.0  ┆ 1600-1799 │\n",
       "│ Standard    ┆             ┆             ┆        ┆   ┆        ┆ 2. Nf3 d6  ┆         ┆           │\n",
       "│ game        ┆             ┆             ┆        ┆   ┆        ┆ 3. h3 Nc6  ┆         ┆           │\n",
       "│             ┆             ┆             ┆        ┆   ┆        ┆ 4…         ┆         ┆           │\n",
       "│ Rated       ┆ karenins_sm ┆ xarra       ┆ 0-1    ┆ … ┆ Black  ┆ 1. e4 c5   ┆ 1463.0  ┆ 1400-1599 │\n",
       "│ Standard    ┆ ile         ┆             ┆        ┆   ┆        ┆ 2. Bc4 d6  ┆         ┆           │\n",
       "│ game        ┆             ┆             ┆        ┆   ┆        ┆ 3. Nf3 a6  ┆         ┆           │\n",
       "│             ┆             ┆             ┆        ┆   ┆        ┆ 4…         ┆         ┆           │\n",
       "│ Rated       ┆ ChessCactus ┆ Shewmoo     ┆ 1-0    ┆ … ┆ White  ┆ 1. d4 e6   ┆ 1041.0  ┆ 1000-1199 │\n",
       "│ Standard    ┆             ┆             ┆        ┆   ┆        ┆ 2. e4 Bb4+ ┆         ┆           │\n",
       "│ game        ┆             ┆             ┆        ┆   ┆        ┆ 3. Nc3 b6  ┆         ┆           │\n",
       "│             ┆             ┆             ┆        ┆   ┆        ┆ …          ┆         ┆           │\n",
       "└─────────────┴─────────────┴─────────────┴────────┴───┴────────┴────────────┴─────────┴───────────┘"
      ]
     },
     "execution_count": 12,
     "metadata": {},
     "output_type": "execute_result"
    }
   ],
   "source": [
    "df = df.select(\"Event\", \"White\", \"Black\", \"Result\", \"WhiteElo\", \"BlackElo\", \"WhiteRatingDiff\", \"BlackRatingDiff\", \"ECO\", \"Winner\", \"Moves\", \"avg_elo\", \"elo_cat\")\n",
    "df.collect()"
   ]
  },
  {
   "cell_type": "code",
   "execution_count": 14,
   "id": "97937412",
   "metadata": {},
   "outputs": [],
   "source": [
    "df.collect().write_csv(\"output/output.csv\")"
   ]
  },
  {
   "cell_type": "code",
   "execution_count": 15,
   "id": "355843ab",
   "metadata": {},
   "outputs": [],
   "source": [
    "df.collect().write_parquet(\"output/output.parquet\")"
   ]
  }
 ],
 "metadata": {
  "kernelspec": {
   "display_name": "elo-estimator",
   "language": "python",
   "name": "python3"
  },
  "language_info": {
   "codemirror_mode": {
    "name": "ipython",
    "version": 3
   },
   "file_extension": ".py",
   "mimetype": "text/x-python",
   "name": "python",
   "nbconvert_exporter": "python",
   "pygments_lexer": "ipython3",
   "version": "3.13.7"
  }
 },
 "nbformat": 4,
 "nbformat_minor": 5
}
