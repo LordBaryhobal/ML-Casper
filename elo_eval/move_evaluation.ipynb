{
 "cells": [
  {
   "metadata": {},
   "cell_type": "markdown",
   "source": "## Move Evaluation and ELO Rating Dynamic with Kalman — CLEAN RESET (CSV BASED)",
   "id": "5643d0543ccb7b72"
  },
  {
   "metadata": {},
   "cell_type": "markdown",
   "source": "- STEP 1 — IMPORTS & CONFIG",
   "id": "4118b265805cedb5"
  },
  {
   "metadata": {
    "ExecuteTime": {
     "end_time": "2025-10-21T17:31:53.940Z",
     "start_time": "2025-10-21T17:31:44.235485Z"
    }
   },
   "cell_type": "code",
   "source": [
    "import polars as pl\n",
    "import pandas as pd\n",
    "import numpy as np\n",
    "import chess\n",
    "from stockfish import Stockfish\n",
    "from pykalman import KalmanFilter\n",
    "import matplotlib.pyplot as plt\n",
    "\n",
    "pd.set_option(\"display.max_columns\", None)\n",
    "plt.style.use(\"seaborn-v0_8-darkgrid\")\n",
    "\n",
    "# Change paths\n",
    "STOCKFISH_PATH = \"./stockfish-windows-x86-64-avx2/stockfish/stockfish-windows-x86-64-avx2.exe\"\n",
    "CSV_PATH = \"output.csv\" # After preprocessing"
   ],
   "id": "c532becc230aec15",
   "outputs": [],
   "execution_count": 1
  },
  {
   "metadata": {},
   "cell_type": "markdown",
   "source": "- Load Dataset (Polars → Pandas)",
   "id": "a9164209f0ff102f"
  },
  {
   "metadata": {
    "ExecuteTime": {
     "end_time": "2025-10-21T17:31:54.342116Z",
     "start_time": "2025-10-21T17:31:53.976270Z"
    }
   },
   "cell_type": "code",
   "source": [
    "# Fast load using Polars\n",
    "df_pl = pl.read_csv(CSV_PATH)\n",
    "print(f\"✅ Loaded {df_pl.height:,} rows using Polars.\")\n",
    "\n",
    "# Convert to Pandas for iterative Stockfish analysis\n",
    "df = df_pl.to_pandas()\n",
    "print(f\"✅ Converted to Pandas ({len(df)} rows).\")\n",
    "\n",
    "df.head()"
   ],
   "id": "6aa8079852f29b4e",
   "outputs": [
    {
     "name": "stdout",
     "output_type": "stream",
     "text": [
      "✅ Loaded 91,178 rows using Polars.\n",
      "✅ Converted to Pandas (91178 rows).\n"
     ]
    },
    {
     "data": {
      "text/plain": [
       "                 Event          White         Black Result  WhiteElo  \\\n",
       "0  Rated Standard game         breves        riiton    1-0      1227   \n",
       "1  Rated Standard game         mironi    grimshanky    0-1      1599   \n",
       "2  Rated Standard game       foss2015  fortune-kook    0-1      1519   \n",
       "3  Rated Standard game  LittleCartier  vilassarxavi    0-1      1315   \n",
       "4  Rated Standard game         CRNI75   zaharof2010    1-0      1589   \n",
       "\n",
       "   BlackElo  WhiteRatingDiff  BlackRatingDiff  ECO Winner  \\\n",
       "0      1190               11              -17  C26  White   \n",
       "1      1582              -11               12  C20  Black   \n",
       "2      1479              -13               12  A45  Black   \n",
       "3      1371               -9                9  C40  Black   \n",
       "4      1329                4               -6  C40  White   \n",
       "\n",
       "                                               Moves  avg_elo    elo_cat  \n",
       "0  1. e4 e5 2. Bc4 Nf6 3. Nc3 a6 4. Nf3 b5 5. Bd5...   1208.5  1200-1399  \n",
       "1  1. e4 e5 2. d3 c5 3. c4 Be7 4. Nc3 Nf6 5. h3 d...   1590.5  1400-1599  \n",
       "2  1. d4 Nf6 2. Nc3 e6 3. Bf4 d5 4. h3 c5 5. e4 Q...   1499.0  1400-1599  \n",
       "3  1. e4 e5 2. Nf3 f5 3. exf5 Nf6 4. Nxe5 d6 5. N...   1343.0  1200-1399  \n",
       "4  1. e4 e5 2. Nf3 Qf6 3. Nc3 Be7 4. d4 d6 5. d5 ...   1459.0  1400-1599  "
      ],
      "text/html": [
       "<div>\n",
       "<style scoped>\n",
       "    .dataframe tbody tr th:only-of-type {\n",
       "        vertical-align: middle;\n",
       "    }\n",
       "\n",
       "    .dataframe tbody tr th {\n",
       "        vertical-align: top;\n",
       "    }\n",
       "\n",
       "    .dataframe thead th {\n",
       "        text-align: right;\n",
       "    }\n",
       "</style>\n",
       "<table border=\"1\" class=\"dataframe\">\n",
       "  <thead>\n",
       "    <tr style=\"text-align: right;\">\n",
       "      <th></th>\n",
       "      <th>Event</th>\n",
       "      <th>White</th>\n",
       "      <th>Black</th>\n",
       "      <th>Result</th>\n",
       "      <th>WhiteElo</th>\n",
       "      <th>BlackElo</th>\n",
       "      <th>WhiteRatingDiff</th>\n",
       "      <th>BlackRatingDiff</th>\n",
       "      <th>ECO</th>\n",
       "      <th>Winner</th>\n",
       "      <th>Moves</th>\n",
       "      <th>avg_elo</th>\n",
       "      <th>elo_cat</th>\n",
       "    </tr>\n",
       "  </thead>\n",
       "  <tbody>\n",
       "    <tr>\n",
       "      <th>0</th>\n",
       "      <td>Rated Standard game</td>\n",
       "      <td>breves</td>\n",
       "      <td>riiton</td>\n",
       "      <td>1-0</td>\n",
       "      <td>1227</td>\n",
       "      <td>1190</td>\n",
       "      <td>11</td>\n",
       "      <td>-17</td>\n",
       "      <td>C26</td>\n",
       "      <td>White</td>\n",
       "      <td>1. e4 e5 2. Bc4 Nf6 3. Nc3 a6 4. Nf3 b5 5. Bd5...</td>\n",
       "      <td>1208.5</td>\n",
       "      <td>1200-1399</td>\n",
       "    </tr>\n",
       "    <tr>\n",
       "      <th>1</th>\n",
       "      <td>Rated Standard game</td>\n",
       "      <td>mironi</td>\n",
       "      <td>grimshanky</td>\n",
       "      <td>0-1</td>\n",
       "      <td>1599</td>\n",
       "      <td>1582</td>\n",
       "      <td>-11</td>\n",
       "      <td>12</td>\n",
       "      <td>C20</td>\n",
       "      <td>Black</td>\n",
       "      <td>1. e4 e5 2. d3 c5 3. c4 Be7 4. Nc3 Nf6 5. h3 d...</td>\n",
       "      <td>1590.5</td>\n",
       "      <td>1400-1599</td>\n",
       "    </tr>\n",
       "    <tr>\n",
       "      <th>2</th>\n",
       "      <td>Rated Standard game</td>\n",
       "      <td>foss2015</td>\n",
       "      <td>fortune-kook</td>\n",
       "      <td>0-1</td>\n",
       "      <td>1519</td>\n",
       "      <td>1479</td>\n",
       "      <td>-13</td>\n",
       "      <td>12</td>\n",
       "      <td>A45</td>\n",
       "      <td>Black</td>\n",
       "      <td>1. d4 Nf6 2. Nc3 e6 3. Bf4 d5 4. h3 c5 5. e4 Q...</td>\n",
       "      <td>1499.0</td>\n",
       "      <td>1400-1599</td>\n",
       "    </tr>\n",
       "    <tr>\n",
       "      <th>3</th>\n",
       "      <td>Rated Standard game</td>\n",
       "      <td>LittleCartier</td>\n",
       "      <td>vilassarxavi</td>\n",
       "      <td>0-1</td>\n",
       "      <td>1315</td>\n",
       "      <td>1371</td>\n",
       "      <td>-9</td>\n",
       "      <td>9</td>\n",
       "      <td>C40</td>\n",
       "      <td>Black</td>\n",
       "      <td>1. e4 e5 2. Nf3 f5 3. exf5 Nf6 4. Nxe5 d6 5. N...</td>\n",
       "      <td>1343.0</td>\n",
       "      <td>1200-1399</td>\n",
       "    </tr>\n",
       "    <tr>\n",
       "      <th>4</th>\n",
       "      <td>Rated Standard game</td>\n",
       "      <td>CRNI75</td>\n",
       "      <td>zaharof2010</td>\n",
       "      <td>1-0</td>\n",
       "      <td>1589</td>\n",
       "      <td>1329</td>\n",
       "      <td>4</td>\n",
       "      <td>-6</td>\n",
       "      <td>C40</td>\n",
       "      <td>White</td>\n",
       "      <td>1. e4 e5 2. Nf3 Qf6 3. Nc3 Be7 4. d4 d6 5. d5 ...</td>\n",
       "      <td>1459.0</td>\n",
       "      <td>1400-1599</td>\n",
       "    </tr>\n",
       "  </tbody>\n",
       "</table>\n",
       "</div>"
      ]
     },
     "execution_count": 2,
     "metadata": {},
     "output_type": "execute_result"
    }
   ],
   "execution_count": 2
  },
  {
   "metadata": {},
   "cell_type": "markdown",
   "source": "- Initialize Stockfish",
   "id": "3ba7835ec4010e7c"
  },
  {
   "metadata": {
    "ExecuteTime": {
     "end_time": "2025-10-21T17:31:58.320944Z",
     "start_time": "2025-10-21T17:31:55.066256Z"
    }
   },
   "cell_type": "code",
   "source": [
    "stockfish = Stockfish(path=STOCKFISH_PATH)\n",
    "print(f\"✅ Stockfish {stockfish.get_stockfish_major_version()} initialized.\")\n"
   ],
   "id": "1e22a44a23436cad",
   "outputs": [
    {
     "name": "stdout",
     "output_type": "stream",
     "text": [
      "✅ Stockfish 17 initialized.\n"
     ]
    }
   ],
   "execution_count": 3
  },
  {
   "metadata": {},
   "cell_type": "markdown",
   "source": "- Evaluate a Single Game (White + Black CPL)",
   "id": "cc9bebc2d0ef73b9"
  },
  {
   "metadata": {
    "ExecuteTime": {
     "end_time": "2025-10-21T17:32:00.595936Z",
     "start_time": "2025-10-21T17:32:00.587937Z"
    }
   },
   "cell_type": "code",
   "source": [
    "def evaluate_game_from_row(row, stockfish, depth=8, verbose=False):\n",
    "    \"\"\"\n",
    "    Evaluate a single chess game using Stockfish.\n",
    "    Returns move-level CPL for both players + engine best moves (UCI).\n",
    "    \"\"\"\n",
    "    board = chess.Board()\n",
    "    moves_raw = str(row[\"Moves\"]).replace(\"\\n\", \" \").split(\" \")\n",
    "    results = []\n",
    "\n",
    "    skip_tokens = {\"1-0\", \"0-1\", \"1/2-1/2\"}\n",
    "\n",
    "    for i, move_text in enumerate(moves_raw):\n",
    "        move_text = move_text.strip()\n",
    "        if not move_text or move_text.endswith(\".\") or move_text in skip_tokens:\n",
    "            continue\n",
    "\n",
    "        player = \"White\" if board.turn == chess.WHITE else \"Black\"\n",
    "\n",
    "        # --- Best move & evaluation before player's move ---\n",
    "        stockfish.set_fen_position(board.fen())\n",
    "        best_move_uci = stockfish.get_best_move()\n",
    "        best_eval = stockfish.get_evaluation()\n",
    "        best_eval_cp = (\n",
    "            best_eval[\"value\"] if best_eval[\"type\"] == \"cp\"\n",
    "            else 10000 if best_eval[\"value\"] > 0 else -10000\n",
    "        )\n",
    "\n",
    "        # --- Parse and apply player's move ---\n",
    "        try:\n",
    "            move = board.parse_san(move_text)\n",
    "        except Exception as e:\n",
    "            if verbose:\n",
    "                print(f\"⚠️ Invalid SAN move skipped: {move_text} ({e})\")\n",
    "            continue\n",
    "\n",
    "        board.push(move)\n",
    "\n",
    "        # --- Evaluate new position ---\n",
    "        stockfish.set_fen_position(board.fen())\n",
    "        after_eval = stockfish.get_evaluation()\n",
    "        after_eval_cp = (\n",
    "            after_eval[\"value\"] if after_eval[\"type\"] == \"cp\"\n",
    "            else 10000 if after_eval[\"value\"] > 0 else -10000\n",
    "        )\n",
    "\n",
    "        # --- Compute CPL ---\n",
    "        if player == \"White\":\n",
    "            actual_eval = -after_eval_cp\n",
    "            cpl_white = best_eval_cp - actual_eval\n",
    "            cpl_black = np.nan\n",
    "        else:\n",
    "            actual_eval = after_eval_cp\n",
    "            cpl_black = best_eval_cp + actual_eval\n",
    "            cpl_white = np.nan\n",
    "\n",
    "        results.append({\n",
    "            \"move_number\": i + 1,\n",
    "            \"player\": player,\n",
    "            \"player_move_UCI\": move.uci(),\n",
    "            \"best_move_UCI\": best_move_uci,\n",
    "            \"CPL_White\": cpl_white,\n",
    "            \"CPL_Black\": cpl_black\n",
    "        })\n",
    "\n",
    "    df_eval = pd.DataFrame(results)\n",
    "    if verbose:\n",
    "        print(f\"✅ Evaluated {len(df_eval)} valid moves for {row['White']} vs {row['Black']}\")\n",
    "    return df_eval\n"
   ],
   "id": "99451c495f984706",
   "outputs": [],
   "execution_count": 4
  },
  {
   "metadata": {},
   "cell_type": "markdown",
   "source": "- Kalman Filter for Smooth Evaluation",
   "id": "78f1625ba62c92fd"
  },
  {
   "metadata": {
    "ExecuteTime": {
     "end_time": "2025-10-21T17:32:13.023724Z",
     "start_time": "2025-10-21T17:32:13.016473Z"
    }
   },
   "cell_type": "code",
   "source": [
    "def apply_kalman_filter(cpl_values, R=50, Q=10):\n",
    "    \"\"\"\n",
    "    Smooths a 1D CPL series using a Kalman filter.\n",
    "    R = measurement noise (Stockfish evaluation variance)\n",
    "    Q = transition noise (player performance variance)\n",
    "    \"\"\"\n",
    "    values = np.array(cpl_values.dropna(), dtype=float)\n",
    "    if len(values) == 0:\n",
    "        return np.array([])\n",
    "\n",
    "    kf = KalmanFilter(\n",
    "        transition_matrices=[1],\n",
    "        observation_matrices=[1],\n",
    "        initial_state_mean=values[0],\n",
    "        observation_covariance=R,\n",
    "        transition_covariance=Q\n",
    "    )\n",
    "    state_means, _ = kf.filter(values)\n",
    "    return state_means.flatten()\n"
   ],
   "id": "e515336368130dbb",
   "outputs": [],
   "execution_count": 5
  },
  {
   "metadata": {},
   "cell_type": "markdown",
   "source": "- Dynamic ELO Estimation",
   "id": "7bb61091728640fd"
  },
  {
   "metadata": {
    "ExecuteTime": {
     "end_time": "2025-10-21T17:32:39.459686Z",
     "start_time": "2025-10-21T17:32:39.450840Z"
    }
   },
   "cell_type": "code",
   "source": [
    "def compute_dynamic_elo(df_eval, row):\n",
    "    \"\"\"\n",
    "    Compute Kalman-smoothed CPL → ELO estimates.\n",
    "    Cleans, interpolates, and splits output into White/Black dataframes.\n",
    "    \"\"\"\n",
    "    # --- Apply Kalman filters ---\n",
    "    df_eval[\"Kalman (White)\"] = apply_kalman_filter(df_eval[\"CPL_White\"].fillna(0))\n",
    "    df_eval[\"Kalman (Black)\"] = apply_kalman_filter(df_eval[\"CPL_Black\"].fillna(0))\n",
    "\n",
    "    # --- ELO progression estimation ---\n",
    "    white_start = int(row[\"WhiteElo\"])\n",
    "    black_start = int(row[\"BlackElo\"])\n",
    "\n",
    "    df_eval[\"White ELO est\"] = white_start + (df_eval[\"Kalman (White)\"] / 10)\n",
    "    df_eval[\"Black ELO est\"] = black_start + (df_eval[\"Kalman (Black)\"] / 10)\n",
    "\n",
    "    # --- Cleanup ---\n",
    "    drop_cols = [\"best_eval_cp\", \"after_eval_cp\", \"White ELO final (Actual)\", \"Black ELO final (Actual)\"]\n",
    "    df_eval.drop(columns=[c for c in drop_cols if c in df_eval.columns], inplace=True, errors=\"ignore\")\n",
    "\n",
    "    df_eval.interpolate(method=\"linear\", inplace=True)\n",
    "    df_eval.bfill(inplace=True)\n",
    "    df_eval.ffill(inplace=True)\n",
    "    df_eval = df_eval.round(2)\n",
    "\n",
    "    # --- Split by player ---\n",
    "    df_white = df_eval[df_eval[\"player\"] == \"White\"].drop(\n",
    "        columns=[\"CPL_Black\", \"Kalman (Black)\", \"Black ELO est\"], errors=\"ignore\"\n",
    "    ).reset_index(drop=True)\n",
    "\n",
    "    df_black = df_eval[df_eval[\"player\"] == \"Black\"].drop(\n",
    "        columns=[\"CPL_White\", \"Kalman (White)\", \"White ELO est\"], errors=\"ignore\"\n",
    "    ).reset_index(drop=True)\n",
    "\n",
    "    return df_white, df_black\n"
   ],
   "id": "70ce1c7a3e32c3d8",
   "outputs": [],
   "execution_count": 6
  },
  {
   "metadata": {},
   "cell_type": "markdown",
   "source": "# Run for a Sample Game",
   "id": "6627a97b6538872e"
  },
  {
   "metadata": {
    "ExecuteTime": {
     "end_time": "2025-10-21T17:32:42.969363Z",
     "start_time": "2025-10-21T17:32:42.961870Z"
    }
   },
   "cell_type": "code",
   "source": [
    "sample_row = df.iloc[0]\n",
    "sample_row"
   ],
   "id": "5e719f985c3fbbc",
   "outputs": [
    {
     "data": {
      "text/plain": [
       "Event                                            Rated Standard game\n",
       "White                                                         breves\n",
       "Black                                                         riiton\n",
       "Result                                                           1-0\n",
       "WhiteElo                                                        1227\n",
       "BlackElo                                                        1190\n",
       "WhiteRatingDiff                                                   11\n",
       "BlackRatingDiff                                                  -17\n",
       "ECO                                                              C26\n",
       "Winner                                                         White\n",
       "Moves              1. e4 e5 2. Bc4 Nf6 3. Nc3 a6 4. Nf3 b5 5. Bd5...\n",
       "avg_elo                                                       1208.5\n",
       "elo_cat                                                    1200-1399\n",
       "Name: 0, dtype: object"
      ]
     },
     "execution_count": 7,
     "metadata": {},
     "output_type": "execute_result"
    }
   ],
   "execution_count": 7
  },
  {
   "metadata": {
    "ExecuteTime": {
     "end_time": "2025-10-21T17:33:05.506029Z",
     "start_time": "2025-10-21T17:32:45.254008Z"
    }
   },
   "cell_type": "code",
   "source": "df_eval = evaluate_game_from_row(sample_row, stockfish)",
   "id": "e03ce9ab989398d0",
   "outputs": [],
   "execution_count": 8
  },
  {
   "metadata": {
    "ExecuteTime": {
     "end_time": "2025-10-21T17:33:08.009810Z",
     "start_time": "2025-10-21T17:33:08.000413Z"
    }
   },
   "cell_type": "code",
   "source": "df_eval.head(6)",
   "id": "bd45ad8bf2ec9261",
   "outputs": [
    {
     "data": {
      "text/plain": [
       "   move_number player player_move_UCI best_move_UCI  CPL_White  CPL_Black\n",
       "0            2  White            e2e4          e2e4       72.0        NaN\n",
       "1            3  Black            e7e5          e7e5        NaN       79.0\n",
       "2            5  White            f1c4          g1f3       32.0        NaN\n",
       "3            6  Black            g8f6          g8f6        NaN        1.0\n",
       "4            8  White            b1c3          d2d3       14.0        NaN\n",
       "5            9  Black            a7a6          f8c5        NaN       72.0"
      ],
      "text/html": [
       "<div>\n",
       "<style scoped>\n",
       "    .dataframe tbody tr th:only-of-type {\n",
       "        vertical-align: middle;\n",
       "    }\n",
       "\n",
       "    .dataframe tbody tr th {\n",
       "        vertical-align: top;\n",
       "    }\n",
       "\n",
       "    .dataframe thead th {\n",
       "        text-align: right;\n",
       "    }\n",
       "</style>\n",
       "<table border=\"1\" class=\"dataframe\">\n",
       "  <thead>\n",
       "    <tr style=\"text-align: right;\">\n",
       "      <th></th>\n",
       "      <th>move_number</th>\n",
       "      <th>player</th>\n",
       "      <th>player_move_UCI</th>\n",
       "      <th>best_move_UCI</th>\n",
       "      <th>CPL_White</th>\n",
       "      <th>CPL_Black</th>\n",
       "    </tr>\n",
       "  </thead>\n",
       "  <tbody>\n",
       "    <tr>\n",
       "      <th>0</th>\n",
       "      <td>2</td>\n",
       "      <td>White</td>\n",
       "      <td>e2e4</td>\n",
       "      <td>e2e4</td>\n",
       "      <td>72.0</td>\n",
       "      <td>NaN</td>\n",
       "    </tr>\n",
       "    <tr>\n",
       "      <th>1</th>\n",
       "      <td>3</td>\n",
       "      <td>Black</td>\n",
       "      <td>e7e5</td>\n",
       "      <td>e7e5</td>\n",
       "      <td>NaN</td>\n",
       "      <td>79.0</td>\n",
       "    </tr>\n",
       "    <tr>\n",
       "      <th>2</th>\n",
       "      <td>5</td>\n",
       "      <td>White</td>\n",
       "      <td>f1c4</td>\n",
       "      <td>g1f3</td>\n",
       "      <td>32.0</td>\n",
       "      <td>NaN</td>\n",
       "    </tr>\n",
       "    <tr>\n",
       "      <th>3</th>\n",
       "      <td>6</td>\n",
       "      <td>Black</td>\n",
       "      <td>g8f6</td>\n",
       "      <td>g8f6</td>\n",
       "      <td>NaN</td>\n",
       "      <td>1.0</td>\n",
       "    </tr>\n",
       "    <tr>\n",
       "      <th>4</th>\n",
       "      <td>8</td>\n",
       "      <td>White</td>\n",
       "      <td>b1c3</td>\n",
       "      <td>d2d3</td>\n",
       "      <td>14.0</td>\n",
       "      <td>NaN</td>\n",
       "    </tr>\n",
       "    <tr>\n",
       "      <th>5</th>\n",
       "      <td>9</td>\n",
       "      <td>Black</td>\n",
       "      <td>a7a6</td>\n",
       "      <td>f8c5</td>\n",
       "      <td>NaN</td>\n",
       "      <td>72.0</td>\n",
       "    </tr>\n",
       "  </tbody>\n",
       "</table>\n",
       "</div>"
      ]
     },
     "execution_count": 9,
     "metadata": {},
     "output_type": "execute_result"
    }
   ],
   "execution_count": 9
  },
  {
   "metadata": {
    "ExecuteTime": {
     "end_time": "2025-10-21T17:33:09.838593Z",
     "start_time": "2025-10-21T17:33:09.779588Z"
    }
   },
   "cell_type": "code",
   "source": "df_white, df_black = compute_dynamic_elo(df_eval, sample_row)",
   "id": "d1f757c9efadde38",
   "outputs": [
    {
     "name": "stderr",
     "output_type": "stream",
     "text": [
      "C:\\Users\\Unal\\AppData\\Local\\Temp\\ipykernel_29408\\3042659471.py:21: FutureWarning: DataFrame.interpolate with object dtype is deprecated and will raise in a future version. Call obj.infer_objects(copy=False) before interpolating instead.\n",
      "  df_eval.interpolate(method=\"linear\", inplace=True)\n"
     ]
    }
   ],
   "execution_count": 10
  },
  {
   "metadata": {
    "ExecuteTime": {
     "end_time": "2025-10-21T17:33:11.464972Z",
     "start_time": "2025-10-21T17:33:11.455658Z"
    }
   },
   "cell_type": "code",
   "source": "df_white.head()",
   "id": "2b80155515b3bce6",
   "outputs": [
    {
     "data": {
      "text/plain": [
       "   move_number player player_move_UCI best_move_UCI  CPL_White  \\\n",
       "0            2  White            e2e4          e2e4       72.0   \n",
       "1            5  White            f1c4          g1f3       32.0   \n",
       "2            8  White            b1c3          d2d3       14.0   \n",
       "3           11  White            g1f3          g1f3      127.0   \n",
       "4           14  White            c4d5          c4b3       50.0   \n",
       "\n",
       "   Kalman (White)  White ELO est  \n",
       "0           72.00        1234.20  \n",
       "1           51.59        1232.16  \n",
       "2           27.77        1229.78  \n",
       "3           56.76        1232.68  \n",
       "4           41.32        1231.13  "
      ],
      "text/html": [
       "<div>\n",
       "<style scoped>\n",
       "    .dataframe tbody tr th:only-of-type {\n",
       "        vertical-align: middle;\n",
       "    }\n",
       "\n",
       "    .dataframe tbody tr th {\n",
       "        vertical-align: top;\n",
       "    }\n",
       "\n",
       "    .dataframe thead th {\n",
       "        text-align: right;\n",
       "    }\n",
       "</style>\n",
       "<table border=\"1\" class=\"dataframe\">\n",
       "  <thead>\n",
       "    <tr style=\"text-align: right;\">\n",
       "      <th></th>\n",
       "      <th>move_number</th>\n",
       "      <th>player</th>\n",
       "      <th>player_move_UCI</th>\n",
       "      <th>best_move_UCI</th>\n",
       "      <th>CPL_White</th>\n",
       "      <th>Kalman (White)</th>\n",
       "      <th>White ELO est</th>\n",
       "    </tr>\n",
       "  </thead>\n",
       "  <tbody>\n",
       "    <tr>\n",
       "      <th>0</th>\n",
       "      <td>2</td>\n",
       "      <td>White</td>\n",
       "      <td>e2e4</td>\n",
       "      <td>e2e4</td>\n",
       "      <td>72.0</td>\n",
       "      <td>72.00</td>\n",
       "      <td>1234.20</td>\n",
       "    </tr>\n",
       "    <tr>\n",
       "      <th>1</th>\n",
       "      <td>5</td>\n",
       "      <td>White</td>\n",
       "      <td>f1c4</td>\n",
       "      <td>g1f3</td>\n",
       "      <td>32.0</td>\n",
       "      <td>51.59</td>\n",
       "      <td>1232.16</td>\n",
       "    </tr>\n",
       "    <tr>\n",
       "      <th>2</th>\n",
       "      <td>8</td>\n",
       "      <td>White</td>\n",
       "      <td>b1c3</td>\n",
       "      <td>d2d3</td>\n",
       "      <td>14.0</td>\n",
       "      <td>27.77</td>\n",
       "      <td>1229.78</td>\n",
       "    </tr>\n",
       "    <tr>\n",
       "      <th>3</th>\n",
       "      <td>11</td>\n",
       "      <td>White</td>\n",
       "      <td>g1f3</td>\n",
       "      <td>g1f3</td>\n",
       "      <td>127.0</td>\n",
       "      <td>56.76</td>\n",
       "      <td>1232.68</td>\n",
       "    </tr>\n",
       "    <tr>\n",
       "      <th>4</th>\n",
       "      <td>14</td>\n",
       "      <td>White</td>\n",
       "      <td>c4d5</td>\n",
       "      <td>c4b3</td>\n",
       "      <td>50.0</td>\n",
       "      <td>41.32</td>\n",
       "      <td>1231.13</td>\n",
       "    </tr>\n",
       "  </tbody>\n",
       "</table>\n",
       "</div>"
      ]
     },
     "execution_count": 11,
     "metadata": {},
     "output_type": "execute_result"
    }
   ],
   "execution_count": 11
  },
  {
   "metadata": {
    "ExecuteTime": {
     "end_time": "2025-10-21T17:33:13.570468Z",
     "start_time": "2025-10-21T17:33:13.561848Z"
    }
   },
   "cell_type": "code",
   "source": "df_black.head()",
   "id": "6da83ee4a17c74fb",
   "outputs": [
    {
     "data": {
      "text/plain": [
       "   move_number player player_move_UCI best_move_UCI  CPL_Black  \\\n",
       "0            3  Black            e7e5          e7e5       79.0   \n",
       "1            6  Black            g8f6          g8f6        1.0   \n",
       "2            9  Black            a7a6          f8c5       72.0   \n",
       "3           12  Black            b7b5          b8c6      136.0   \n",
       "4           15  Black            c7c6          f6d5       30.0   \n",
       "\n",
       "   Kalman (Black)  Black ELO est  \n",
       "0           14.23        1191.42  \n",
       "1            7.31        1190.73  \n",
       "2           28.45        1192.85  \n",
       "3           60.36        1196.04  \n",
       "4           35.63        1193.56  "
      ],
      "text/html": [
       "<div>\n",
       "<style scoped>\n",
       "    .dataframe tbody tr th:only-of-type {\n",
       "        vertical-align: middle;\n",
       "    }\n",
       "\n",
       "    .dataframe tbody tr th {\n",
       "        vertical-align: top;\n",
       "    }\n",
       "\n",
       "    .dataframe thead th {\n",
       "        text-align: right;\n",
       "    }\n",
       "</style>\n",
       "<table border=\"1\" class=\"dataframe\">\n",
       "  <thead>\n",
       "    <tr style=\"text-align: right;\">\n",
       "      <th></th>\n",
       "      <th>move_number</th>\n",
       "      <th>player</th>\n",
       "      <th>player_move_UCI</th>\n",
       "      <th>best_move_UCI</th>\n",
       "      <th>CPL_Black</th>\n",
       "      <th>Kalman (Black)</th>\n",
       "      <th>Black ELO est</th>\n",
       "    </tr>\n",
       "  </thead>\n",
       "  <tbody>\n",
       "    <tr>\n",
       "      <th>0</th>\n",
       "      <td>3</td>\n",
       "      <td>Black</td>\n",
       "      <td>e7e5</td>\n",
       "      <td>e7e5</td>\n",
       "      <td>79.0</td>\n",
       "      <td>14.23</td>\n",
       "      <td>1191.42</td>\n",
       "    </tr>\n",
       "    <tr>\n",
       "      <th>1</th>\n",
       "      <td>6</td>\n",
       "      <td>Black</td>\n",
       "      <td>g8f6</td>\n",
       "      <td>g8f6</td>\n",
       "      <td>1.0</td>\n",
       "      <td>7.31</td>\n",
       "      <td>1190.73</td>\n",
       "    </tr>\n",
       "    <tr>\n",
       "      <th>2</th>\n",
       "      <td>9</td>\n",
       "      <td>Black</td>\n",
       "      <td>a7a6</td>\n",
       "      <td>f8c5</td>\n",
       "      <td>72.0</td>\n",
       "      <td>28.45</td>\n",
       "      <td>1192.85</td>\n",
       "    </tr>\n",
       "    <tr>\n",
       "      <th>3</th>\n",
       "      <td>12</td>\n",
       "      <td>Black</td>\n",
       "      <td>b7b5</td>\n",
       "      <td>b8c6</td>\n",
       "      <td>136.0</td>\n",
       "      <td>60.36</td>\n",
       "      <td>1196.04</td>\n",
       "    </tr>\n",
       "    <tr>\n",
       "      <th>4</th>\n",
       "      <td>15</td>\n",
       "      <td>Black</td>\n",
       "      <td>c7c6</td>\n",
       "      <td>f6d5</td>\n",
       "      <td>30.0</td>\n",
       "      <td>35.63</td>\n",
       "      <td>1193.56</td>\n",
       "    </tr>\n",
       "  </tbody>\n",
       "</table>\n",
       "</div>"
      ]
     },
     "execution_count": 12,
     "metadata": {},
     "output_type": "execute_result"
    }
   ],
   "execution_count": 12
  },
  {
   "metadata": {},
   "cell_type": "markdown",
   "source": "## Visualization",
   "id": "d3fb76dc1ae301a9"
  },
  {
   "metadata": {},
   "cell_type": "markdown",
   "source": "- ELO Progression Plot : Shows both players’ estimated ELO over the course of the game.",
   "id": "fa3e454152baadbf"
  },
  {
   "metadata": {
    "ExecuteTime": {
     "end_time": "2025-10-21T17:33:15.867071Z",
     "start_time": "2025-10-21T17:33:15.862595Z"
    }
   },
   "cell_type": "code",
   "source": [
    "def plot_elo_progress(df_white, df_black, row):\n",
    "    plt.figure(figsize=(10,6))\n",
    "    plt.plot(df_white[\"move_number\"], df_white[\"White ELO est\"], \"-o\", color=\"deepskyblue\", label=f\"{row['White']} (White)\")\n",
    "    plt.plot(df_black[\"move_number\"], df_black[\"Black ELO est\"], \"-o\", color=\"salmon\", label=f\"{row['Black']} (Black)\")\n",
    "\n",
    "    plt.title(f\"ELO Progression: {row['White']} vs {row['Black']}\")\n",
    "    plt.xlabel(\"Move #\")\n",
    "    plt.ylabel(\"Estimated ELO\")\n",
    "    plt.grid(True, alpha=0.3)\n",
    "    plt.legend()\n",
    "    plt.tight_layout()\n",
    "    plt.show()\n"
   ],
   "id": "a840bb140037803f",
   "outputs": [],
   "execution_count": 13
  },
  {
   "metadata": {
    "ExecuteTime": {
     "end_time": "2025-10-21T17:33:18.727407Z",
     "start_time": "2025-10-21T17:33:18.390768Z"
    }
   },
   "cell_type": "code",
   "source": "plot_elo_progress(df_white, df_black, sample_row)",
   "id": "f7211bc9f3895c69",
   "outputs": [
    {
     "data": {
      "text/plain": [
       "<Figure size 1000x600 with 1 Axes>"
      ],
      "image/png": "[encoded data removed]"
     },
     "metadata": {},
     "output_type": "display_data"
    }
   ],
   "execution_count": 14
  },
  {
   "metadata": {},
   "cell_type": "markdown",
   "source": "- CPL Trend Plot : Visualizes how precisely each player plays over time (lower CPL = better moves).",
   "id": "5af403c629bf1ea1"
  },
  {
   "metadata": {
    "ExecuteTime": {
     "end_time": "2025-10-21T17:33:20.512587Z",
     "start_time": "2025-10-21T17:33:20.506213Z"
    }
   },
   "cell_type": "code",
   "source": [
    "def plot_cpl_trend(df_white, df_black, row):\n",
    "    plt.figure(figsize=(10,6))\n",
    "    plt.plot(df_white[\"move_number\"], df_white[\"CPL_White\"], \"-o\", color=\"royalblue\", label=\"White CPL\")\n",
    "    plt.plot(df_black[\"move_number\"], df_black[\"CPL_Black\"], \"-o\", color=\"firebrick\", label=\"Black CPL\")\n",
    "\n",
    "    plt.title(f\"Centipawn Loss (CPL) Over Time: {row['White']} vs {row['Black']}\")\n",
    "    plt.xlabel(\"Move #\")\n",
    "    plt.ylabel(\"Centipawn Loss (CPL)\")\n",
    "    plt.grid(True, alpha=0.3)\n",
    "    plt.legend()\n",
    "    plt.tight_layout()\n",
    "    plt.show()\n"
   ],
   "id": "2db76963b6e20d5",
   "outputs": [],
   "execution_count": 15
  },
  {
   "metadata": {
    "ExecuteTime": {
     "end_time": "2025-10-21T12:37:56.071664Z",
     "start_time": "2025-10-21T12:37:55.936477Z"
    }
   },
   "cell_type": "code",
   "source": "plot_cpl_trend(df_white, df_black, sample_row)\n",
   "id": "d49bb7f4b147e0e",
   "outputs": [
    {
     "data": {
      "text/plain": [
       "<Figure size 1000x600 with 1 Axes>"
      ],
      "image/png": "[encoded data removed]"
     },
     "metadata": {},
     "output_type": "display_data"
    }
   ],
   "execution_count": 24
  },
  {
   "metadata": {},
   "cell_type": "markdown",
   "source": "# How actual ELO correlates with the sequence of engine evaluations.",
   "id": "a253d189827c4acf"
  },
  {
   "metadata": {
    "ExecuteTime": {
     "end_time": "2025-10-21T12:37:57.793400Z",
     "start_time": "2025-10-21T12:37:57.789912Z"
    }
   },
   "cell_type": "code",
   "source": "# TODO :: Now I need to calculate the ELO score according to the player's actions,",
   "id": "efee35196ebe096a",
   "outputs": [],
   "execution_count": 25
  },
  {
   "metadata": {
    "ExecuteTime": {
     "end_time": "2025-10-21T17:36:54.109505Z",
     "start_time": "2025-10-21T17:36:54.020108Z"
    }
   },
   "cell_type": "code",
   "source": [
    "import multiprocessing as mp\n",
    "import os\n",
    "\n",
    "CSV_PATH = \"output.csv\"\n",
    "OUTPUT_DIR = \"features_fast\"\n",
    "os.makedirs(OUTPUT_DIR, exist_ok=True)\n",
    "\n",
    "N_JOBS = max(1, mp.cpu_count() - 1)  # use all cores but one\n",
    "BATCH_SIZE = 10    # games per batch\n",
    "MAX_GAMES = 50     # process only N games for now\n",
    "MAX_MOVES = 12     # only first 12 moves per game\n",
    "STOCKFISH_DEPTH = 6  # engine search depth (lower = faster)\n",
    "\n",
    "print(f\"✅ Config: {N_JOBS} cores, depth={STOCKFISH_DEPTH}, moves={MAX_MOVES}\")\n"
   ],
   "id": "10d40dbd2fa9f27f",
   "outputs": [
    {
     "name": "stdout",
     "output_type": "stream",
     "text": [
      "✅ Config: 15 cores, depth=6, moves=12\n"
     ]
    }
   ],
   "execution_count": 16
  },
  {
   "metadata": {
    "ExecuteTime": {
     "end_time": "2025-10-21T17:37:08.499231Z",
     "start_time": "2025-10-21T17:37:08.079308Z"
    }
   },
   "cell_type": "code",
   "source": [
    "stockfish = Stockfish(\n",
    "    path=STOCKFISH_PATH,\n",
    "    parameters={\n",
    "        \"Threads\": 2,\n",
    "        \"Hash\": 64,\n",
    "        \"UCI_LimitStrength\": False,\n",
    "    }\n",
    ")\n",
    "\n",
    "stockfish.set_depth(STOCKFISH_DEPTH)\n",
    "print(f\"✅ Stockfish loaded (depth={STOCKFISH_DEPTH})\")"
   ],
   "id": "27d72deafc091360",
   "outputs": [
    {
     "name": "stdout",
     "output_type": "stream",
     "text": [
      "✅ Stockfish loaded (depth=6)\n"
     ]
    }
   ],
   "execution_count": 17
  },
  {
   "metadata": {},
   "cell_type": "code",
   "outputs": [],
   "execution_count": null,
   "source": "",
   "id": "71ae0688c5de1534"
  }
 ],
 "metadata": {
  "kernelspec": {
   "display_name": "Python 3",
   "language": "python",
   "name": "python3"
  },
  "language_info": {
   "codemirror_mode": {
    "name": "ipython",
    "version": 2
   },
   "file_extension": ".py",
   "mimetype": "text/x-python",
   "name": "python",
   "nbconvert_exporter": "python",
   "pygments_lexer": "ipython2",
   "version": "2.7.6"
  }
 },
 "nbformat": 4,
 "nbformat_minor": 5
}
